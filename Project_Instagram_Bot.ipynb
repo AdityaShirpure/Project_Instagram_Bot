{
 "cells": [
  {
   "cell_type": "markdown",
   "metadata": {},
   "source": [
    "# InstaBot Introduction - Part 1"
   ]
  },
  {
   "cell_type": "markdown",
   "metadata": {},
   "source": [
    "Your friend has opened a new Food Blogging handle on Instagram and wants to get famous. He wants to follow a lot of people so that he can get notice quickly but it is a tedious task so he asks you to help him. As you have learned automation using Selenium, you decided to help him by creating an Instagram Bot. You need to create different functions for each task."
   ]
  },
  {
   "cell_type": "code",
   "execution_count": 426,
   "metadata": {},
   "outputs": [],
   "source": [
    "# importing all the libraries \n",
    "from selenium import webdriver\n",
    "from selenium.webdriver.support import expected_conditions as EC\n",
    "from selenium.webdriver.support.ui import WebDriverWait\n",
    "from selenium.webdriver.common.by import By\n",
    "from selenium.common.exceptions import TimeoutException\n",
    "from bs4 import BeautifulSoup\n",
    "import time"
   ]
  },
  {
   "cell_type": "code",
   "execution_count": 427,
   "metadata": {},
   "outputs": [
    {
     "name": "stderr",
     "output_type": "stream",
     "text": [
      "The version of chrome cannot be detected. Trying with latest driver version\n"
     ]
    }
   ],
   "source": [
    "# initializing the webdriver browser \n",
    "# you can set the executable path of your chrome_driver underneath\n",
    "driver = webdriver.Chrome()\n",
    "driver.maximize_window()"
   ]
  },
  {
   "cell_type": "code",
   "execution_count": 428,
   "metadata": {},
   "outputs": [],
   "source": [
    "# initializing a get request to the browser for Instagram.com\n",
    "driver.get('https://www.instagram.com/')"
   ]
  },
  {
   "cell_type": "code",
   "execution_count": 429,
   "metadata": {},
   "outputs": [],
   "source": [
    "# update your username and password for log in \n",
    "# username = \"*****\"\n",
    "# password = \"*****\"\n"
   ]
  },
  {
   "cell_type": "code",
   "execution_count": 430,
   "metadata": {},
   "outputs": [],
   "source": [
    "# initializing object for WebDriverWait\n",
    "wait = WebDriverWait(driver, 10)"
   ]
  },
  {
   "cell_type": "markdown",
   "metadata": {},
   "source": [
    "# Problem 1 : Login to your Instagram\n",
    "Login to your Instagram Handle &\n",
    "Submit with sample username and password"
   ]
  },
  {
   "cell_type": "code",
   "execution_count": 431,
   "metadata": {},
   "outputs": [],
   "source": [
    "def LogIn(username, password):\n",
    "    try :\n",
    "        #locating the username textbox and sending username\n",
    "        user_name = wait.until(EC.presence_of_element_located((By.NAME,\"username\")))\n",
    "        #making sure that user name input box is clear\n",
    "        user_name.clear()\n",
    "        user_name.send_keys(username)\n",
    "        #locating the password textbox and sending password\n",
    "        pwd = driver.find_element(By.NAME,\"password\")\n",
    "        #making sure that password input box is clear\n",
    "        pwd.clear()\n",
    "        pwd.send_keys(password)\n",
    "        #locating login button\n",
    "        button = wait.until(EC.presence_of_element_located((By.CSS_SELECTOR,\"button[type = 'submit']\")))\n",
    "        button.submit()\n",
    "        #Save Your Login Info? : Not Now\n",
    "        pop1 = wait.until(EC.presence_of_element_located((By.XPATH,'//div[contains(text(),\"Not Now\")]')))\n",
    "        pop1.click()\n",
    "        #notification Turn on or Not\n",
    "        pop2 = wait.until(EC.presence_of_element_located((By.XPATH,\"//button[contains(@class,'_a9--')]\")))\n",
    "        pop2.click()\n",
    "        \n",
    "    except TimeoutException :\n",
    "        print (\"Something went wrong! Try Again\")"
   ]
  },
  {
   "cell_type": "code",
   "execution_count": 432,
   "metadata": {},
   "outputs": [],
   "source": [
    "#Login to your Instagram Handle\n",
    "LogIn(username,password)"
   ]
  },
  {
   "attachments": {},
   "cell_type": "markdown",
   "metadata": {},
   "source": [
    "### Problem 2 : Type for “food” in search bar\n",
    "Type for “food” in search bar and print all the names of the Instagram Handles that are displayed in list after typing “food”  \n",
    "Note : Make sure to avoid printing hashtags  "
   ]
  },
  {
   "cell_type": "code",
   "execution_count": 433,
   "metadata": {},
   "outputs": [],
   "source": [
    "def search(value):\n",
    "    try:\n",
    "        search_box = wait.until(EC.presence_of_element_located((By.LINK_TEXT,'Search')))\n",
    "        search_box.click()  \n",
    "        sending_value = driver.find_element(By.XPATH,'//input[contains(@class,\"x1lugfcp\")]')\n",
    "        sending_value.clear()\n",
    "        sending_value.send_keys(value)\n",
    "        handling_names = wait.until(EC.presence_of_all_elements_located((By.CSS_SELECTOR,\"div[role = 'none']\")))\n",
    "        for i in handling_names:\n",
    "            if i.text[0] != \"#\":\n",
    "                print(i.text.split(\"\\n\")[0])\n",
    "    except TimeoutException:\n",
    "        print(\"No Search Found!\")"
   ]
  },
  {
   "cell_type": "code",
   "execution_count": 434,
   "metadata": {},
   "outputs": [
    {
     "name": "stdout",
     "output_type": "stream",
     "text": [
      "foodexplorer_omi\n",
      "foodedge_49\n",
      "nagpurfoodgram\n",
      "foodleagacy\n",
      "food_o_logy_nagpur\n",
      "foodwani\n",
      "food\n",
      "pune_food_diary_\n",
      "foodpharmer\n",
      "foodie_incarnate\n",
      "yourfoodlab\n",
      "foodish_punekar\n",
      "hilarious_foods_blog\n",
      "pune_food_blogger\n",
      "foodnetwork\n",
      "soul_reliefer_\n",
      "thisisdelhi\n",
      "sanskarkhemani\n",
      "vrittikhawani\n",
      "punefoodiesoul\n",
      "adis_food_voyage\n",
      "thefoodgambler\n",
      "food.darzee\n",
      "mumbaifoodie\n",
      "puneriguide\n",
      "hungrygut\n",
      "the_harsha_khatri\n",
      "crushonfood__\n",
      "food_escapes\n",
      "foodo_therapy\n",
      "meghnasfoodmagic\n",
      "dilsefoodie\n",
      "travelufoodie\n",
      "foodie_ank\n",
      "foodie_tshr\n",
      "foodtalkindia\n",
      "bareillyfoodblogger.official\n",
      "foodietrendzz\n",
      "theglocaljournal\n",
      "nagpurfoodpedia\n",
      "food.over.curve\n",
      "foodiesdaadda\n",
      "Food Court\n",
      "streetfoodchaska\n",
      "food_travel_insider\n",
      "Food Beyond Fantasy\n",
      "Food beyond Imagination\n",
      "_foodscientist_\n",
      "lets_eat_mumbai\n",
      "food_happiness_soul\n",
      "thefoodmonster_\n",
      "foodhuntzngp\n"
     ]
    }
   ],
   "source": [
    "search(\"food\")"
   ]
  }
 ],
 "metadata": {
  "kernelspec": {
   "display_name": "base",
   "language": "python",
   "name": "python3"
  },
  "language_info": {
   "codemirror_mode": {
    "name": "ipython",
    "version": 3
   },
   "file_extension": ".py",
   "mimetype": "text/x-python",
   "name": "python",
   "nbconvert_exporter": "python",
   "pygments_lexer": "ipython3",
   "version": "3.11.3"
  },
  "orig_nbformat": 4
 },
 "nbformat": 4,
 "nbformat_minor": 2
}
