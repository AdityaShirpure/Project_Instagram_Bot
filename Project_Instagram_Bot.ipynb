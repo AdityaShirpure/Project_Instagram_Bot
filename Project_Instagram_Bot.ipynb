{
 "cells": [
  {
   "cell_type": "markdown",
   "metadata": {},
   "source": [
    "# InstaBot Introduction - Part 1"
   ]
  },
  {
   "cell_type": "markdown",
   "metadata": {},
   "source": [
    "Your friend has opened a new Food Blogging handle on Instagram and wants to get famous. He wants to follow a lot of people so that he can get notice quickly but it is a tedious task so he asks you to help him. As you have learned automation using Selenium, you decided to help him by creating an Instagram Bot. You need to create different functions for each task."
   ]
  },
  {
   "cell_type": "code",
   "execution_count": 38,
   "metadata": {},
   "outputs": [],
   "source": [
    "# importing all the libraries \n",
    "import time\n",
    "from bs4 import BeautifulSoup\n",
    "from selenium import webdriver\n",
    "from selenium.webdriver.support import expected_conditions as EC \n",
    "from selenium.webdriver.support.ui import WebDriverWait\n",
    "from selenium.webdriver.common.by import By\n",
    "from selenium.common.exceptions import TimeoutException"
   ]
  },
  {
   "cell_type": "code",
   "execution_count": 39,
   "metadata": {},
   "outputs": [
    {
     "name": "stderr",
     "output_type": "stream",
     "text": [
      "The version of chrome cannot be detected. Trying with latest driver version\n"
     ]
    }
   ],
   "source": [
    "# initializing the webdriver browser \n",
    "# you can set the executable path of your chrome_driver underneath\n",
    "driver = webdriver.Chrome()\n",
    "driver.maximize_window()"
   ]
  },
  {
   "cell_type": "code",
   "execution_count": null,
   "metadata": {},
   "outputs": [],
   "source": [
    "# initializing a get request to the browser for Instagram.com\n",
    "driver.get(\"https://www.instagram.com/\")"
   ]
  },
  {
   "cell_type": "code",
   "execution_count": null,
   "metadata": {},
   "outputs": [],
   "source": [
    "# update your username and password for log in \n",
    "username = \"shirpure1998\"\n",
    "password = \"samplepassword\""
   ]
  },
  {
   "cell_type": "code",
   "execution_count": null,
   "metadata": {},
   "outputs": [],
   "source": [
    "# initializing object for WebDriverWait\n",
    "wait = WebDriverWait(driver,15)"
   ]
  },
  {
   "cell_type": "markdown",
   "metadata": {},
   "source": [
    "# Problem 1 : Login to your Instagram\n",
    "Login to your Instagram Handle &\n",
    "Submit with sample username and password"
   ]
  },
  {
   "cell_type": "code",
   "execution_count": null,
   "metadata": {},
   "outputs": [],
   "source": [
    "#using this fucntion you can log in into instagram handle\n",
    "def LogIn(username,password):\n",
    "    try:\n",
    "        #locating the username textbox and sending username\n",
    "        user_name = wait.until(EC.presence_of_element_located((By.NAME,\"username\")))\n",
    "        user_name.send_keys(username)\n",
    "        #locating the password textbox and sending password\n",
    "        pwd = driver.find_element(By.NAME,\"password\")\n",
    "        pwd.send_keys(password)\n",
    "        #locating login button\n",
    "        button = wait.until(EC.presence_of_element_located((By.TAG_NAME,\"button\")))\n",
    "        button.submit()\n",
    "        #notification Turn on or Not\n",
    "        pop1 = wait.until(EC.presence_of_element_located((By.XPATH,\"//button[contains(@class,'_a9--')]\")))\n",
    "        pop1.click()\n",
    "        \n",
    "    except TimeoutException:\n",
    "        print(\"Something went wrong! Try Again\")"
   ]
  },
  {
   "cell_type": "code",
   "execution_count": null,
   "metadata": {},
   "outputs": [],
   "source": [
    "#Login to your Instagram Handle\n",
    "LogIn(username,password)"
   ]
  }
 ],
 "metadata": {
  "kernelspec": {
   "display_name": "base",
   "language": "python",
   "name": "python3"
  },
  "language_info": {
   "codemirror_mode": {
    "name": "ipython",
    "version": 3
   },
   "file_extension": ".py",
   "mimetype": "text/x-python",
   "name": "python",
   "nbconvert_exporter": "python",
   "pygments_lexer": "ipython3",
   "version": "3.11.3"
  },
  "orig_nbformat": 4
 },
 "nbformat": 4,
 "nbformat_minor": 2
}
