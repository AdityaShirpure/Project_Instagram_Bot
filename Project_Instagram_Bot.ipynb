{
 "cells": [
  {
   "attachments": {},
   "cell_type": "markdown",
   "metadata": {},
   "source": [
    "# InstaBot Introduction - Part 1"
   ]
  },
  {
   "attachments": {},
   "cell_type": "markdown",
   "metadata": {},
   "source": [
    "Your friend has opened a new Food Blogging handle on Instagram and wants to get famous. He wants to follow a lot of people so that he can get notice quickly but it is a tedious task so he asks you to help him. As you have learned automation using Selenium, you decided to help him by creating an Instagram Bot. You need to create different functions for each task."
   ]
  },
  {
   "cell_type": "code",
   "execution_count": 952,
   "metadata": {},
   "outputs": [],
   "source": [
    "# importing all the libraries \n",
    "import time\n",
    "from bs4 import BeautifulSoup\n",
    "from selenium import webdriver\n",
    "from selenium.webdriver.support import expected_conditions as EC\n",
    "from selenium.webdriver.support.ui import WebDriverWait\n",
    "from selenium.webdriver.common.by import By\n",
    "from selenium.common.exceptions import TimeoutException\n",
    "from selenium.common.exceptions import StaleElementReferenceException  \n",
    "from selenium.common.exceptions import ElementClickInterceptedException \n",
    "from selenium.common.exceptions import NoSuchElementException                   "
   ]
  },
  {
   "cell_type": "code",
   "execution_count": 953,
   "metadata": {},
   "outputs": [
    {
     "name": "stderr",
     "output_type": "stream",
     "text": [
      "The version of chrome cannot be detected. Trying with latest driver version\n"
     ]
    }
   ],
   "source": [
    "# initializing the webdriver browser \n",
    "# you can set the executable path of your chrome_driver underneath\n",
    "driver = webdriver.Chrome()\n",
    "driver.maximize_window()"
   ]
  },
  {
   "cell_type": "code",
   "execution_count": 954,
   "metadata": {},
   "outputs": [],
   "source": [
    "# initializing a get request to the browser for Instagram.com\n",
    "driver.get('https://www.instagram.com/')"
   ]
  },
  {
   "cell_type": "code",
   "execution_count": 955,
   "metadata": {},
   "outputs": [],
   "source": [
    "# update your username and password for log in \n",
    "username = '8999310577'\n",
    "password = 'Juhil@2810'\n"
   ]
  },
  {
   "cell_type": "code",
   "execution_count": 956,
   "metadata": {},
   "outputs": [],
   "source": [
    "# initializing object for WebDriverWait\n",
    "wait = WebDriverWait(driver, 10)"
   ]
  },
  {
   "attachments": {},
   "cell_type": "markdown",
   "metadata": {},
   "source": [
    "# Problem 1 : Login to your Instagram\n",
    "Login to your Instagram Handle &\n",
    "Submit with sample username and password"
   ]
  },
  {
   "cell_type": "code",
   "execution_count": 957,
   "metadata": {},
   "outputs": [],
   "source": [
    "#this function lets you login in your Instagram handle\n",
    "def LogIn(username, password):\n",
    "    try :\n",
    "        #locating the username textbox and sending username\n",
    "        user_name = wait.until(EC.presence_of_element_located((By.NAME,\"username\")))\n",
    "        #making sure that user name input box is clear\n",
    "        user_name.clear()\n",
    "        user_name.send_keys(username)\n",
    "        #locating the password textbox and sending password\n",
    "        pwd = driver.find_element(By.NAME,\"password\")\n",
    "        #making sure that password input box is clear\n",
    "        pwd.clear()\n",
    "        pwd.send_keys(password)\n",
    "        #locating login button\n",
    "        button = wait.until(EC.presence_of_element_located((By.CSS_SELECTOR,\"button[type = 'submit']\")))\n",
    "        button.submit()\n",
    "        #Save Your Login Info? : Not Now\n",
    "        pop1 = wait.until(EC.presence_of_element_located((By.XPATH,'//div[contains(text(),\"Not Now\")]')))\n",
    "        pop1.click()\n",
    "        #notification Turn on or Not\n",
    "        pop2 = wait.until(EC.presence_of_element_located((By.XPATH,\"//button[contains(@class,'_a9--')]\")))\n",
    "        pop2.click()\n",
    "        \n",
    "    except TimeoutException :\n",
    "        print (\"Something went wrong! Try Again\")"
   ]
  },
  {
   "cell_type": "code",
   "execution_count": 958,
   "metadata": {},
   "outputs": [],
   "source": [
    "#call the function to Log in to your Instagram Handle\n",
    "#change the login credentials above if you want to login in some different instagram handle\n",
    "LogIn(username,password)"
   ]
  },
  {
   "attachments": {},
   "cell_type": "markdown",
   "metadata": {},
   "source": [
    "### Problem 2 : Type for “food” in search bar\n",
    "Type for “food” in search bar and print all the names of the Instagram Handles that are displayed in list after typing “food”  \n",
    "Note : Make sure to avoid printing hashtags  "
   ]
  },
  {
   "cell_type": "code",
   "execution_count": 959,
   "metadata": {},
   "outputs": [],
   "source": [
    "#this function lets you search for accounts, and it returns the list of all accounts.\n",
    "def search(value):\n",
    "    try:\n",
    "        #locating the search box and cliking on it\n",
    "        search_box = wait.until(EC.presence_of_element_located((By.CSS_SELECTOR,'svg[aria-label=\"Search\"]')))\n",
    "        search_box.click()\n",
    "        #sending the value in the search box\n",
    "        sending_value = driver.find_element(By.CSS_SELECTOR,'input[aria-label = \"Search input\"]')\n",
    "        sending_value.clear()\n",
    "        sending_value.send_keys(value)\n",
    "        # waiting till all search is done.\n",
    "        time.sleep(2)\n",
    "        #locating and extracting all the search handles. \n",
    "        handling_names = wait.until(EC.presence_of_all_elements_located((By.CSS_SELECTOR,\"div[role = 'none']\")))\n",
    "        names = []\n",
    "        for i in handling_names:\n",
    "            try:\n",
    "                if i.text and i.text[0] != \"#\":\n",
    "                    names.append(i.text.split(\"\\n\")[0])\n",
    "            except StaleElementReferenceException:\n",
    "                 handling_names = wait.until(EC.presence_of_all_elements_located((By.CSS_SELECTOR,\"div[role = 'none']\")))        \n",
    "        #clearing the search bar\n",
    "        driver.find_element(By.CSS_SELECTOR,'div[aria-label = \"Clear the search box\"]').click()\n",
    "        #clicking on the search bar again so that it can close.\n",
    "        search_box = wait.until(EC.presence_of_element_located((By.CSS_SELECTOR,'svg[aria-label=\"Search\"]')))\n",
    "        search_box.click()\n",
    "        return names\n",
    "    except TimeoutException:\n",
    "        print(\"No Search Found!\")"
   ]
  },
  {
   "cell_type": "code",
   "execution_count": 960,
   "metadata": {},
   "outputs": [
    {
     "name": "stdout",
     "output_type": "stream",
     "text": [
      "foodexplorer_omi\n",
      "foodtalkindia\n",
      "foodedge_49\n",
      "nagpurfoodgram\n",
      "dilsefoodie\n",
      "foodleagacy\n",
      "food\n",
      "food_o_logy_nagpur\n",
      "foodwani\n",
      "yourfoodlab\n",
      "pune_food_diary_\n",
      "foodish_punekar\n",
      "foodpharmer\n",
      "foodie_incarnate\n",
      "pune_food_blogger\n",
      "foodnetwork\n",
      "hilarious_foods_blog\n",
      "thisisdelhi\n",
      "adis_food_voyage\n",
      "mumbaifoodie\n",
      "punefoodiesoul\n",
      "soul_reliefer_\n",
      "hungrygut\n",
      "puneriguide\n",
      "meghnasfoodmagic\n",
      "food_escapes\n",
      "sanskarkhemani\n",
      "vrittikhawani\n",
      "thefoodgambler\n",
      "food.darzee\n",
      "khana_for_foodies\n",
      "foodie_ank\n",
      "foodietrendzz\n",
      "food.over.curve\n",
      "the_harsha_khatri\n",
      "nashiktales\n",
      "foodo_therapy\n",
      "travelufoodie\n",
      "food_lunatic\n",
      "crushonfood__\n",
      "lets_eat_mumbai\n",
      "food_travel_insider\n",
      "bareillyfoodblogger.official\n",
      "Food Court\n",
      "foodie_tshr\n",
      "streetfoodchaska\n",
      "food_aajkal\n",
      "Food Beyond Fantasy\n",
      "Food beyond Imagination\n",
      "theglocaljournal\n",
      "food__burst\n",
      "food___date\n"
     ]
    }
   ],
   "source": [
    "#call the function to get all the searched results\n",
    "#you can change the value to fetch different accounts\n",
    "value = \"food\"\n",
    "names = search(value)\n",
    "for i in names:\n",
    "    print(i)"
   ]
  },
  {
   "attachments": {},
   "cell_type": "markdown",
   "metadata": {},
   "source": [
    "### Problem 3 : Searching and Opening a profile\n",
    "Searching and Opening a profile using   \n",
    "Open profile of “So Delhi” "
   ]
  },
  {
   "cell_type": "code",
   "execution_count": 961,
   "metadata": {},
   "outputs": [],
   "source": [
    "#this function lets you search a profile and open it\n",
    "def search_opening_profiles(value):\n",
    "    driver.refresh()\n",
    "    time.sleep(1)\n",
    "    try :\n",
    "        #notification Turn on or Not\n",
    "        pop2 = driver.find_element(By.XPATH,\"//button[contains(@class,'_a9--')]\")\n",
    "        pop2.click()\n",
    "    except ElementClickInterceptedException:\n",
    "        pass        \n",
    "    except TimeoutException:\n",
    "        pass\n",
    "    except NoSuchElementException:\n",
    "        pass\n",
    "    try:\n",
    "        #locating the search box and cliking on it\n",
    "        search_box = wait.until(EC.presence_of_element_located((By.CSS_SELECTOR,'svg[aria-label=\"Search\"]')))\n",
    "        search_box.click() \n",
    "        time.sleep(1)\n",
    "        #sending the value in the search box\n",
    "        sending_value = driver.find_element(By.CSS_SELECTOR,'input[aria-label = \"Search input\"]')\n",
    "        sending_value.clear()\n",
    "        sending_value.send_keys(value)\n",
    "        time.sleep(1)\n",
    "        #waiting till the searched is done\n",
    "        wait.until(EC.presence_of_element_located((By.CSS_SELECTOR,\"div[role='none']\")))\n",
    "        #retry mechanism for StaleElementReferenceException\n",
    "        for i in range(3):\n",
    "            try:\n",
    "                #finding the searched account and clicking on it.\n",
    "                account = wait.until(EC.presence_of_element_located((By.CSS_SELECTOR,\"div[role='none']\")))\n",
    "                account.click() \n",
    "                break\n",
    "            except StaleElementReferenceException: \n",
    "                continue\n",
    "        #after done searching it will remove the search bar and gives you the full page of that Instagram handler.\n",
    "        try:\n",
    "            wait.until(EC.presence_of_element_located((By.XPATH,\"//div[contains(@class,'_aawn')]\")))\n",
    "            wait.until(EC.presence_of_element_located((By.XPATH,'//div[contains(@class,\"_aa_y\")]'))).click() \n",
    "        except NoSuchElementException:\n",
    "            pass\n",
    "\n",
    "    except TimeoutException:\n",
    "        print(\"No Search Found!\")"
   ]
  },
  {
   "cell_type": "code",
   "execution_count": 962,
   "metadata": {},
   "outputs": [],
   "source": [
    "#call the function to open the Instagram account of your choice.\n",
    "#change the value if you want to search any other account\n",
    "value = \"So Delhi\"\n",
    "search_opening_profiles(value)"
   ]
  },
  {
   "attachments": {},
   "cell_type": "markdown",
   "metadata": {},
   "source": [
    "### Problem 4 : Follow/Unfollow given handle\n",
    "Follow/Unfollow given handle -   \n",
    "1.Open the Instagram Handle of “So Delhi”  \n",
    "2.Start following it. Print a message if you are already following  \n",
    "3.After following, unfollow the instagram handle. Print a message if you have already unfollowed."
   ]
  },
  {
   "cell_type": "code",
   "execution_count": 974,
   "metadata": {},
   "outputs": [],
   "source": [
    "#this function helps you follow accounts and if you already followed that account it tells you that you already followed that account.\n",
    "def follow(value):\n",
    "    try:\n",
    "        #locating the follow button\n",
    "        follow = wait.until(EC.presence_of_element_located((By.XPATH,\"//div[contains(@class,'_aacl')]\")))\n",
    "        #if the follow button text is following it will satisfy this condition\n",
    "        if follow.text == \"Following\":\n",
    "            print(\"You already following the account\")\n",
    "        #else it will follow the account by clicking on follow button\n",
    "        else:\n",
    "            follow.click()\n",
    "    except TimeoutException:\n",
    "        print(\"Something Went Wrong!\")\n"
   ]
  },
  {
   "cell_type": "code",
   "execution_count": 964,
   "metadata": {},
   "outputs": [],
   "source": [
    "#call the function to follow the account\n",
    "#change the value if you want to follow any other account\n",
    "value = \"So Delhi\"\n",
    "follow(value)"
   ]
  },
  {
   "cell_type": "code",
   "execution_count": 965,
   "metadata": {},
   "outputs": [],
   "source": [
    "#this function helps you unfollow accounts and if you already unfollowed that account it tells you that you already unfollowed that account.\n",
    "def unfollow(value):\n",
    "    try:\n",
    "        unfollow = wait.until(EC.presence_of_element_located((By.XPATH,\"//div[contains(@class,'_aacl')]\")))\n",
    "        #if the unfollow button text is follow it will satisfy this condition\n",
    "        if unfollow.text == \"Follow\":\n",
    "            print(\"You already unfollowed the account\")\n",
    "        else:\n",
    "            #else it will unfollow the account by clicking on unfollow button.\n",
    "            unfollow.click()\n",
    "            time.sleep(1)\n",
    "            pop_up_of_unfollow = wait.until(EC.presence_of_all_elements_located((By.XPATH,'//div[contains(@class,\"x7r02ix\")]//span[contains(text(),\"Unfollow\")]')))\n",
    "            pop_up_of_unfollow[0].click()\n",
    "    except TimeoutException:\n",
    "        print(\"Something Went Wrong!\")\n"
   ]
  },
  {
   "cell_type": "code",
   "execution_count": 966,
   "metadata": {},
   "outputs": [
    {
     "name": "stdout",
     "output_type": "stream",
     "text": [
      "You already unfollowed the account\n"
     ]
    }
   ],
   "source": [
    "#call the function to unfollow the account\n",
    "#change the value if you want to unfollow any other account\n",
    "value = \"So Delhi\"\n",
    "unfollow(value)"
   ]
  },
  {
   "attachments": {},
   "cell_type": "markdown",
   "metadata": {},
   "source": [
    "### Problem 5 : Like/Unlike posts\n",
    "Like/Unlike posts  \n",
    "1.Liking the top 30 posts of the ‘dilsefoodie'. Print message if you have already liked it.  \n",
    "2.Unliking the top 30 posts of the ‘dilsefoodie’. Print message if you have already unliked it."
   ]
  },
  {
   "cell_type": "code",
   "execution_count": 967,
   "metadata": {},
   "outputs": [],
   "source": [
    "#this function helps you in liking post of any instagram handle and also tells you if you haved already liked the post or Not.\n",
    "def like_Post(value):\n",
    "    try:\n",
    "        #calling the function to open the given value account.\n",
    "        search_opening_profiles(value)\n",
    "        for i in range(2):\n",
    "        #rendering post with the help of scrollTo\n",
    "            driver.execute_script('window.scrollBy(0, 6000);')\n",
    "            time.sleep(3)\n",
    "        #going upwards using scrollTo\n",
    "        driver.execute_script('window.scrollBy(0, -9000);')\n",
    "        time.sleep(1)\n",
    "        #locating posts\n",
    "        posts = wait.until(EC.presence_of_all_elements_located((By.CLASS_NAME,\"_aagw\")))\n",
    "        #looping over posts and getting the required info.\n",
    "        for i in range(30):\n",
    "            posts[i].click()\n",
    "            time.sleep(2)\n",
    "            #locating the like button\n",
    "            like = wait.until(EC.presence_of_element_located((By.CLASS_NAME,'_aamw')))\n",
    "            #converting it into parse Tree\n",
    "            data = BeautifulSoup(like.get_attribute(\"innerHTML\"),\"html.parser\").title\n",
    "            #given condition for liked post\n",
    "            if data.text == \"Like\":\n",
    "                like.click()   \n",
    "                time.sleep(2)  \n",
    "            else:\n",
    "                print(\"You Have Already Liked The Post\" + \":\" , i+1)\n",
    "                time.sleep(2)    \n",
    "            #closing the current post window\n",
    "            close = driver.find_element(By.CSS_SELECTOR,\"svg[aria-label='Close']\")\n",
    "            close.click()\n",
    "            time.sleep(2)\n",
    "    except TimeoutException:\n",
    "        print(\"Something Went Wrong!\")"
   ]
  },
  {
   "cell_type": "code",
   "execution_count": 968,
   "metadata": {},
   "outputs": [],
   "source": [
    "#calling the function to like the posts\n",
    "#you can also change the value to like others posts\n",
    "value = \"dilsefoodie\"\n",
    "like_Post(value)"
   ]
  },
  {
   "cell_type": "code",
   "execution_count": 969,
   "metadata": {},
   "outputs": [],
   "source": [
    "#this function helps you in unliking post of any instagram handle and also tells you if you haved already unliked the post or Not.\n",
    "def unlike_Post(value):\n",
    "    try:\n",
    "        for i in range(2):\n",
    "        #rendering post with the help of scrollTo\n",
    "            driver.execute_script('window.scrollBy(0, 6000);')\n",
    "            time.sleep(3)\n",
    "        #going upwards using scrollTo\n",
    "        driver.execute_script('window.scrollBy(0, -6000);')\n",
    "        time.sleep(1)\n",
    "        #locating post\n",
    "        posts = wait.until(EC.presence_of_all_elements_located((By.CLASS_NAME,\"_aagw\")))\n",
    "        #looping over posts and getting the required info.\n",
    "        for i in range(30):\n",
    "            posts[i].click()\n",
    "            time.sleep(2)\n",
    "            #locating the unlike button\n",
    "            unlike = wait.until(EC.presence_of_element_located((By.CLASS_NAME,'_aamw')))\n",
    "            #converting it into parse Tree\n",
    "            data = BeautifulSoup(unlike.get_attribute(\"innerHTML\"),\"html.parser\").title\n",
    "            #given condition for unliked post\n",
    "            if data.text == \"Unlike\":\n",
    "                unlike.click()   \n",
    "                time.sleep(2)  \n",
    "            else:\n",
    "                print(\"You Have Already Unliked The Post\" + \":\" , i+1)\n",
    "                time.sleep(2)   \n",
    "            #closing the current post window \n",
    "            close = driver.find_element(By.CSS_SELECTOR,\"svg[aria-label='Close']\")\n",
    "            close.click()\n",
    "            time.sleep(2)\n",
    "    except TimeoutException:\n",
    "        print(\"Something Went Wrong!\")"
   ]
  },
  {
   "cell_type": "code",
   "execution_count": 970,
   "metadata": {},
   "outputs": [],
   "source": [
    "#calling the function to unlike the posts\n",
    "#you can also change the value to unlike others posts\n",
    "value = \"dilsefoodie\"\n",
    "unlike_Post(value)"
   ]
  },
  {
   "attachments": {},
   "cell_type": "markdown",
   "metadata": {},
   "source": [
    "### Problem 6 : Extract list of followers\n",
    "Extract list of followers  \n",
    "1.Extract the usernames of the first 500 followers of ‘foodtalkindia’ and ‘sodelhi’.  \n",
    "2.Now print all the followers of “foodtalkindia” that you are following but those who don’t follow you."
   ]
  },
  {
   "cell_type": "code",
   "execution_count": 976,
   "metadata": {},
   "outputs": [],
   "source": [
    "def followers_Extractor(value):\n",
    "     try:\n",
    "        #calling the function to open the given value account.\n",
    "        search_opening_profiles(value)\n",
    "        time.sleep(3)\n",
    "        followers = wait.until(EC.presence_of_all_elements_located((By.CLASS_NAME,\"_ac2a\")))[1]\n",
    "        followers.click()\n",
    "        \n",
    "     except TimeoutException:\n",
    "         print(\"Something Went Wrong!\")"
   ]
  },
  {
   "cell_type": "code",
   "execution_count": null,
   "metadata": {},
   "outputs": [],
   "source": [
    "followers_Extractor(\"sodelhi\")"
   ]
  },
  {
   "cell_type": "code",
   "execution_count": 973,
   "metadata": {},
   "outputs": [],
   "source": [
    "all_followers =  wait.until(EC.presence_of_all_elements_located((By.XPATH,\"//div[contains(@class,'x9f619')]\")))"
   ]
  }
 ],
 "metadata": {
  "kernelspec": {
   "display_name": "base",
   "language": "python",
   "name": "python3"
  },
  "language_info": {
   "codemirror_mode": {
    "name": "ipython",
    "version": 3
   },
   "file_extension": ".py",
   "mimetype": "text/x-python",
   "name": "python",
   "nbconvert_exporter": "python",
   "pygments_lexer": "ipython3",
   "version": "3.11.3"
  },
  "orig_nbformat": 4
 },
 "nbformat": 4,
 "nbformat_minor": 2
}
