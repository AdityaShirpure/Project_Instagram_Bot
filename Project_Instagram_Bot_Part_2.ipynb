{
 "cells": [
  {
   "attachments": {},
   "cell_type": "markdown",
   "metadata": {},
   "source": [
    "# InstaBot - Part 2"
   ]
  },
  {
   "cell_type": "code",
   "execution_count": 30,
   "metadata": {},
   "outputs": [],
   "source": [
    "# importing all the libraries \n",
    "import time\n",
    "import numpy as np\n",
    "import pandas as pd\n",
    "from bs4 import BeautifulSoup\n",
    "from selenium import webdriver\n",
    "import matplotlib.pyplot as plt\n",
    "import matplotlib.ticker as ticker\n",
    "from collections import OrderedDict\n",
    "from datetime import datetime, timedelta\n",
    "from selenium.webdriver.common.by import By\n",
    "from selenium.webdriver.support.ui import WebDriverWait\n",
    "from selenium.common.exceptions import ElementClickInterceptedException\n",
    "from selenium.common.exceptions import NoSuchElementException\n",
    "from selenium.common.exceptions import StaleElementReferenceException\n",
    "from selenium.common.exceptions import TimeoutException\n",
    "from selenium.webdriver.support import expected_conditions as EC\n"
   ]
  },
  {
   "cell_type": "code",
   "execution_count": 31,
   "metadata": {},
   "outputs": [
    {
     "name": "stderr",
     "output_type": "stream",
     "text": [
      "The version of chrome cannot be detected. Trying with latest driver version\n"
     ]
    }
   ],
   "source": [
    "# initializing the webdriver browser \n",
    "# you can set the executable path of your chrome_driver underneath\n",
    "driver = webdriver.Chrome()\n",
    "driver.maximize_window()"
   ]
  },
  {
   "cell_type": "code",
   "execution_count": 41,
   "metadata": {},
   "outputs": [],
   "source": [
    "# initializing a get request to the browser for Instagram.com\n",
    "driver.get('https://www.instagram.com/')"
   ]
  },
  {
   "cell_type": "code",
   "execution_count": 32,
   "metadata": {},
   "outputs": [],
   "source": [
    "# update your username and password for log in \n",
    "username = 'shirpure1998'\n",
    "password = 'Shirpure1998@'"
   ]
  },
  {
   "cell_type": "code",
   "execution_count": 33,
   "metadata": {},
   "outputs": [],
   "source": [
    "# initializing object for WebDriverWait\n",
    "wait = WebDriverWait(driver, 10)"
   ]
  },
  {
   "cell_type": "code",
   "execution_count": 43,
   "metadata": {},
   "outputs": [],
   "source": [
    "#this function lets you login in your Instagram handle\n",
    "def LogIn(username, password):\n",
    "    try :\n",
    "        #locating the username textbox and sending username\n",
    "        user_name = wait.until(EC.presence_of_element_located((By.NAME,\"username\")))\n",
    "        #making sure that user name input box is clear\n",
    "        user_name.clear()\n",
    "        time.sleep(1)\n",
    "        user_name.send_keys(username)\n",
    "        #locating the password textbox and sending password\n",
    "        pwd = driver.find_element(By.NAME,\"password\")\n",
    "        #making sure that password input box is clear\n",
    "        pwd.clear()\n",
    "        time.sleep(1)\n",
    "        pwd.send_keys(password)\n",
    "        #locating login button\n",
    "        button = wait.until(EC.presence_of_element_located((By.CSS_SELECTOR,\"button[type = 'submit']\")))\n",
    "        button.submit()\n",
    "        #Save Your Login Info? : Not Now\n",
    "        pop1 = wait.until(EC.presence_of_element_located((By.XPATH,'//div[contains(text(),\"Not Now\")]')))\n",
    "        pop1.click()\n",
    "        #notification Turn on or Not\n",
    "        pop2 = wait.until(EC.presence_of_element_located((By.XPATH,\"//button[contains(@class,'_a9--')]\")))\n",
    "        pop2.click()\n",
    "        \n",
    "    except TimeoutException :\n",
    "        print (\"Something went wrong! Try Again\")"
   ]
  },
  {
   "cell_type": "code",
   "execution_count": 44,
   "metadata": {},
   "outputs": [],
   "source": [
    "#call the function to Log in to your Instagram Handle\n",
    "#change the login credentials above if you want to login in some different instagram handle\n",
    "LogIn(username,password)"
   ]
  },
  {
   "cell_type": "code",
   "execution_count": 35,
   "metadata": {},
   "outputs": [],
   "source": [
    "#this function lets you search a profile and open it\n",
    "def search_opening_profiles(value):\n",
    "    driver.refresh()\n",
    "    time.sleep(1)\n",
    "    try :\n",
    "        #notification Turn on or Not\n",
    "        pop2 = driver.find_element(By.XPATH,\"//button[contains(@class,'_a9--')]\")\n",
    "        pop2.click()\n",
    "    except ElementClickInterceptedException:\n",
    "        pass        \n",
    "    except TimeoutException:\n",
    "        pass\n",
    "    except NoSuchElementException:\n",
    "        pass\n",
    "    try:\n",
    "        #locating the search box and cliking on it\n",
    "        search_box = wait.until(EC.presence_of_element_located((By.CSS_SELECTOR,'svg[aria-label=\"Search\"]')))\n",
    "        search_box.click() \n",
    "        time.sleep(1)\n",
    "        #sending the value in the search box\n",
    "        sending_value = driver.find_element(By.CSS_SELECTOR,'input[aria-label = \"Search input\"]')\n",
    "        sending_value.clear()\n",
    "        sending_value.send_keys(value)\n",
    "        time.sleep(2)\n",
    "        #waiting till the searched is done\n",
    "        wait.until(EC.presence_of_element_located((By.XPATH,\"//div[contains(@class,'x6s0dn4')]/div/a\")))\n",
    "        time.sleep(1)\n",
    "        #retry mechanism for StaleElementReferenceException\n",
    "        for i in range(3):\n",
    "            try:\n",
    "                #finding the searched account and clicking on it.\n",
    "                account = wait.until(EC.presence_of_element_located((By.XPATH,\"//div[contains(@class,'x6s0dn4')]/div/a\")))\n",
    "                account.click()\n",
    "                break\n",
    "            except StaleElementReferenceException: \n",
    "                continue\n",
    "        #after done searching it will remove the search bar and gives you the full page of that Instagram handler.\n",
    "        try:\n",
    "            wait.until(EC.presence_of_element_located((By.XPATH,\"//div[contains(@class,'_aawn')]\")))\n",
    "            wait.until(EC.presence_of_element_located((By.XPATH,'//div[contains(@class,\"_aa_y\")]'))).click() \n",
    "            time.sleep(2)\n",
    "        except NoSuchElementException:\n",
    "            pass\n",
    "    except ElementClickInterceptedException:\n",
    "        close = driver.find_element(By.CSS_SELECTOR,\"svg[aria-label='Close']\")\n",
    "        close.click()\n",
    "        print(\"Try Again\")  \n",
    "        print(\"Something Went Wrong!\")     \n",
    "    except TimeoutException:\n",
    "        print(\"No Search Found!\")"
   ]
  },
  {
   "cell_type": "code",
   "execution_count": 36,
   "metadata": {},
   "outputs": [],
   "source": [
    "#this function lets you search for accounts, and it returns the list of all accounts.\n",
    "def search(value):\n",
    "    try:\n",
    "        #locating the search box and cliking on it\n",
    "        search_box = wait.until(EC.presence_of_element_located((By.CSS_SELECTOR,'svg[aria-label=\"Search\"]')))\n",
    "        search_box.click()\n",
    "        #sending the value in the search box\n",
    "        sending_value = driver.find_element(By.CSS_SELECTOR,'input[aria-label = \"Search input\"]')\n",
    "        sending_value.clear()\n",
    "        sending_value.send_keys(value)\n",
    "        # waiting till all search is done.\n",
    "        time.sleep(2)\n",
    "        #locating and extracting all the search handles. \n",
    "        handling_names = wait.until(EC.presence_of_all_elements_located((By.XPATH,\"//a[contains(@class,'x1i10hfl')]\")))\n",
    "        names = []\n",
    "        for i in handling_names:\n",
    "            try:\n",
    "                if i.text and i.text[0] != \"#\":\n",
    "                    names.append(i.text.split(\"\\n\")[0])\n",
    "            except StaleElementReferenceException:\n",
    "                 handling_names = wait.until(EC.presence_of_all_elements_located((By.CSS_SELECTOR,\"div[role = 'none']\")))        \n",
    "        #clearing the search bar\n",
    "        driver.find_element(By.CSS_SELECTOR,'div[aria-label = \"Clear the search box\"]').click()\n",
    "        #clicking on the search bar again so that it can close.\n",
    "        search_box = wait.until(EC.presence_of_element_located((By.CSS_SELECTOR,'svg[aria-label=\"Search\"]')))\n",
    "        search_box.click()\n",
    "        return names\n",
    "    except TimeoutException:\n",
    "        print(\"No Search Found!\")"
   ]
  },
  {
   "attachments": {},
   "cell_type": "markdown",
   "metadata": {},
   "source": [
    "### Problem 1 : Analyse the habits of bloggers\n",
    "Now your friend has followed a lot of different food bloggers, he needs to analyse the habits of these bloggers.    \n",
    "1.From the list of instagram handles you obtained when you searched ‘food’ in previous project. Open the first 10 handles and find the top 5 which have the highest number of followers  \n",
    "2.Now Find the number of posts these handles have done in the previous 3 days.  \n",
    "3.Depict this information using a suitable graph.  "
   ]
  },
  {
   "cell_type": "code",
   "execution_count": 10,
   "metadata": {},
   "outputs": [
    {
     "data": {
      "text/plain": [
       "['foodiesfood_court',\n",
       " 'mumbaifoodjunkie',\n",
       " 'food_lunatic',\n",
       " 'foodie_incarnate',\n",
       " 'foodtalkindia',\n",
       " 'tasty_foodgram_in',\n",
       " 'food',\n",
       " 'fun2ooshfood',\n",
       " 'dilsefoodie',\n",
       " 'delhifoodwalks']"
      ]
     },
     "execution_count": 10,
     "metadata": {},
     "output_type": "execute_result"
    }
   ],
   "source": [
    "#First 10 handles from part-1\n",
    "result = search(\"food\")\n",
    "first_10_handles = result[:10]\n",
    "first_10_handles"
   ]
  },
  {
   "cell_type": "code",
   "execution_count": 37,
   "metadata": {},
   "outputs": [],
   "source": [
    "#this function helps you get the top 5 Insta Handles\n",
    "def top_5_handles(first_10_handles):\n",
    "    try:\n",
    "        #locating the search box and cliking on it\n",
    "        search_box = wait.until(EC.presence_of_element_located((By.CSS_SELECTOR,'svg[aria-label=\"Search\"]')))\n",
    "        search_box.click() \n",
    "        #an empty dictionary to store the values\n",
    "        top_5 = {}\n",
    "        #loop for opening profile and taking out the followers numbers and appending it into the empty dictionary.\n",
    "        for i in first_10_handles: \n",
    "            #calling function to open profiles\n",
    "            search_opening_profiles(i)\n",
    "            # waiting till all search is done.\n",
    "            time.sleep(2)\n",
    "            #locating and getting the number of followers.\n",
    "            followers = wait.until(EC.presence_of_all_elements_located((By.CLASS_NAME,\"_ac2a\")))[1]\n",
    "            #appending the key value pair in top_5\n",
    "            top_5[i] = int(followers.get_attribute(\"title\").replace(\",\",\"\"))\n",
    "            count = 0\n",
    "            new_result = {}\n",
    "            #sorting the dictionary on basis of there followers using sorted function\n",
    "            for i in sorted(top_5 , key=top_5.get, reverse=True):\n",
    "                new_result[i] = top_5[i]\n",
    "                count = count + 1\n",
    "                if count == 5:\n",
    "                    break            \n",
    "        return new_result\n",
    "    except TimeoutException:\n",
    "        print(\"Something went wrong!, Try Again\")"
   ]
  },
  {
   "cell_type": "code",
   "execution_count": 12,
   "metadata": {},
   "outputs": [
    {
     "name": "stdout",
     "output_type": "stream",
     "text": [
      "Top 5 instagram handles which have the highest number of followers\n",
      "foodie_incarnate : 1637126\n",
      "dilsefoodie : 1134710\n",
      "food : 858954\n",
      "foodiesfood_court : 858953\n",
      "foodtalkindia : 309698\n"
     ]
    }
   ],
   "source": [
    "#calling the top_5_handles function and storing the value in the result variable\n",
    "top_handles = top_5_handles(first_10_handles)\n",
    "print('Top 5 instagram handles which have the highest number of followers')\n",
    "for key,value in top_handles.items():\n",
    "    print(key,\":\",value)"
   ]
  },
  {
   "attachments": {},
   "cell_type": "markdown",
   "metadata": {},
   "source": [
    "##### 2.Now Find the number of posts these handles have done in the previous 3 days."
   ]
  },
  {
   "cell_type": "code",
   "execution_count": 38,
   "metadata": {},
   "outputs": [],
   "source": [
    "#this function let you know the number of post the user post in given days.\n",
    "def number_of_post(day):\n",
    "    try:\n",
    "        #finding the first post and clicking on it.\n",
    "        post = wait.until(EC.presence_of_element_located((By.CLASS_NAME,\"_aagw\")))\n",
    "        post.click()\n",
    "        time.sleep(1)\n",
    "        #running a loop for comparing and counting the number of posts the user post in given days.\n",
    "        count = 0\n",
    "        while True:\n",
    "            #locating the date\n",
    "            temp = wait.until(EC.presence_of_element_located((By.XPATH,\"//time[contains(@class,'_a9ze')]\")))\n",
    "            time.sleep(1)\n",
    "            #getting the date in string fromat\n",
    "            date_string = temp.get_attribute(\"datetime\")\n",
    "            #format code of given date\n",
    "            format_code = \"%Y-%m-%dT%H:%M:%S\"\n",
    "            #parsing the date in datetime and converting it into date format.\n",
    "            date = datetime.strptime(date_string[:19],format_code)\n",
    "            #taking differnce between today's date and post posted date\n",
    "            if (datetime.now() - date).days > day:\n",
    "                break\n",
    "            else:\n",
    "                count = count + 1\n",
    "            #locating the next_post button and clicking on it\n",
    "            next_post = wait.until(EC.presence_of_element_located((By.CSS_SELECTOR,\"svg[aria-label='Next']\")))\n",
    "            next_post.click()\n",
    "            time.sleep(2)\n",
    "        # after done fetching the data closing the post section completely.\n",
    "        close = wait.until(EC.presence_of_element_located((By.CSS_SELECTOR,\"svg[aria-label='Close']\")))\n",
    "        close.click()\n",
    "        return count\n",
    "    except ElementClickInterceptedException:\n",
    "        driver.refresh()\n",
    "        print(\"Try Again Please!\")\n",
    "    except TimeoutException:\n",
    "        print(\"Something Went Wrong!, Try Again\")"
   ]
  },
  {
   "cell_type": "code",
   "execution_count": 14,
   "metadata": {},
   "outputs": [
    {
     "name": "stdout",
     "output_type": "stream",
     "text": [
      "Number of posts these handles have done in the previous 3 days : -\n",
      "foodie_incarnate : 4\n",
      "dilsefoodie : 4\n",
      "food : 2\n",
      "foodiesfood_court : 2\n",
      "foodtalkindia : 4\n"
     ]
    }
   ],
   "source": [
    "#calling the function to get the result\n",
    "#empty dict to store the data\n",
    "total_post_count = {}\n",
    "#loop to open all profile and get the required data.\n",
    "for i in top_handles:\n",
    "    search_opening_profiles(i)\n",
    "    time.sleep(3)\n",
    "    count = number_of_post(3)\n",
    "    total_post_count[i] = count\n",
    "print('Number of posts these handles have done in the previous 3 days : -')\n",
    "for i in total_post_count:\n",
    "    print(i,\":\",total_post_count[i])"
   ]
  },
  {
   "attachments": {},
   "cell_type": "markdown",
   "metadata": {},
   "source": [
    "##### 3.Depict this information using a suitable graph."
   ]
  },
  {
   "cell_type": "code",
   "execution_count": 60,
   "metadata": {},
   "outputs": [
    {
     "data": {
      "image/png": "[encoded data removed]",
      "text/plain": [
       "<Figure size 800x400 with 2 Axes>"
      ]
     },
     "metadata": {},
     "output_type": "display_data"
    }
   ],
   "source": [
    "# Sample data (replace with your actual data)\n",
    "instagram_handles = top_handles.keys()\n",
    "follower_counts = top_handles.values()\n",
    "post_counts = total_post_count.values()\n",
    "\n",
    "# Create a figure and axis\n",
    "fig, ax1 = plt.subplots(figsize=(8, 4))\n",
    "\n",
    "# Plot follower counts as a bar graph on the left y-axis\n",
    "ax1.bar(range(1, len(instagram_handles) + 1), follower_counts, color='green')\n",
    "ax1.set_ylabel('Follower Count', color='green')\n",
    "ax1.tick_params(axis='y', labelcolor='black')\n",
    "\n",
    "# Create a second y-axis on the right for post counts\n",
    "ax2 = ax1.twinx()\n",
    "\n",
    "# Plot post counts as a bar graph on the right y-axis\n",
    "# Plot post counts as a bar graph on the right y-axis without transparency\n",
    "ax2.bar(range(1, len(instagram_handles) + 1), post_counts, color='orange')\n",
    "ax2.set_ylabel('Post Count', color='orange')\n",
    "ax2.tick_params(axis='y', labelcolor='black')\n",
    "\n",
    "# Set the title and labels\n",
    "plt.title('Top 5 Instagram Handles - Follower Count vs. Post Count')\n",
    "plt.xlabel('Instagram Handles')\n",
    "\n",
    "# Format the x-axis ticks to start from 1 and increment by 1\n",
    "plt.xticks(range(1, len(instagram_handles) + 1), instagram_handles, rotation=45, ha='right')\n",
    "\n",
    "# Format the y-axis labels to show accurate follower counts\n",
    "def format_follower_count(x, pos):\n",
    "    return f'{int(x):,}'  # Format the number with commas as thousands separators\n",
    "\n",
    "ax1.yaxis.set_major_formatter(ticker.FuncFormatter(format_follower_count))\n",
    "\n",
    "# Set font size for x and y axis labels and the title\n",
    "ax1.set_xlabel('Instagram Handles', fontsize=12)\n",
    "ax1.set_ylabel('Follower Count', color='green', fontsize=12)\n",
    "ax2.set_ylabel('Post Count', color='orange', fontsize=12)\n",
    "plt.title('Top 5 Instagram Handles - Follower Count vs. Post Count', fontsize=14)\n",
    "\n",
    "# Add some padding to the plot\n",
    "plt.tight_layout()\n",
    "\n",
    "# Show the plot\n",
    "plt.show()\n",
    "\n"
   ]
  },
  {
   "attachments": {},
   "cell_type": "markdown",
   "metadata": {},
   "source": [
    "### Problem 2 : List of hashtags\n",
    "Your friend also needs a list of hashtags that he should use in his posts.  \n",
    "1.Open the 5 handles you obtained in the last question, and scrape the content of the first 10 posts of each handle.  \n",
    "2.Prepare a list of all words used in all the scraped posts and calculate the frequency of each word.  \n",
    "3.Create a csv file with two columns : the word and its frequency  \n",
    "4.Now, find the hashtags that were most popular among these bloggers  \n",
    "5.Plot a Pie Chart of the top 5 hashtags obtained and the number of times they were used by these bloggers in the scraped posts.  "
   ]
  },
  {
   "cell_type": "code",
   "execution_count": 61,
   "metadata": {},
   "outputs": [],
   "source": [
    "#this function helps you to scrape the hastags of the posts\n",
    "def extract_content(lst):\n",
    "    try:\n",
    "        #empty hastag list\n",
    "        hashtag_lists = []\n",
    "        for user in lst:\n",
    "            #calling function to open given users\n",
    "            search_opening_profiles(user)\n",
    "            #rendering post with the help of scrollTo\n",
    "            driver.execute_script('window.scrollBy(0, 6000);')   \n",
    "            time.sleep(1)\n",
    "            #going upwards using scrollTo\n",
    "            driver.execute_script('window.scrollBy(0, -9000);')\n",
    "            time.sleep(1)\n",
    "            #finding the first post element\n",
    "            posts = wait.until(EC.presence_of_all_elements_located((By.CLASS_NAME,\"_aagw\")))\n",
    "            for post in posts[:10]:\n",
    "                try:\n",
    "                    #clicking on the post\n",
    "                    post.click()\n",
    "                    time.sleep(2)\n",
    "                    #locating the hastags and then extracting the hastags and also appending it to the empty hastag list\n",
    "                    hashtags = wait.until(EC.presence_of_all_elements_located((By.XPATH,\"//div[contains(@class,'_a9zs')]/h1/a\")))\n",
    "                    for hashtag in hashtags:\n",
    "                        if hashtag.text != '':\n",
    "                            if hashtag.text[0] == \"#\":\n",
    "                                hashtag_lists.append(hashtag.text)\n",
    "                    # after done fetching the data closing the post section completely.\n",
    "                    close = wait.until(EC.presence_of_element_located((By.CSS_SELECTOR,\"svg[aria-label='Close']\")))\n",
    "                    close.click()\n",
    "                    time.sleep(2)\n",
    "                except TimeoutException:                    \n",
    "                    # after done fetching the data closing the post section completely.\n",
    "                    close = wait.until(EC.presence_of_element_located((By.CSS_SELECTOR,\"svg[aria-label='Close']\")))\n",
    "                    close.click()\n",
    "                    time.sleep(2)  \n",
    "        return hashtag_lists    \n",
    "    except TimeoutException:\n",
    "        print(\"Something Went Wrong! Try Again\")"
   ]
  },
  {
   "attachments": {},
   "cell_type": "markdown",
   "metadata": {},
   "source": [
    "### This function will be taking some amount of time so be patient"
   ]
  },
  {
   "cell_type": "code",
   "execution_count": 63,
   "metadata": {},
   "outputs": [
    {
     "name": "stdout",
     "output_type": "stream",
     "text": [
      "['#foodieincarnate', '#reelitfeelit', '#reelkarofeelkaro', '#reelsinstagram', '#reels', '#surat', '#gujarat', '#explore', '#foodieincarnate', '#reelitfeelit', '#reelkarofeelkaro', '#reelsinstagram', '#reels', '#sikh', '#sikhisim', '#shardai', '#foodieincarnate', '#delhifoodcrush', '#foodieincarnate', '#reelitfeelit', '#reelkarofeelkaro', '#reelsinstagram', '#reels', '#masala', '#explore', '#foodieincarnate', '#reelitfeelit', '#reelkarofeelkaro', '#reelsinstagram', '#reels', '#streetfood', '#explore', '#foodieincarnate', '#amarsirohi', '#foodieincarnate', '#reelitfeelit', '#reelkarofeelkaro', '#reelsinstagram', '#reels', '#rosé', '#gulkand', '#explore', '#foodieincarnate', '#Reelitfeelit', '#reelkarofeelkaro', '#reelsinstagram', '#reels', '#kashmir', '#srinagar', '#Wendys', '#WendysBurgers', '#YummyBurgers', '#GreatDeal', '#foodieincarnate', '#foodieincarnate', '#reelitfeelit', '#reelkarofeelkaro', '#reelsinstagram', '#reels', '#chai', '#tea', '#dilsefoodie', '#food', '#dilsecouple', '#subhashnagar', '#streetfood', '#dilsefoodie', '#chole', '#kulche', '#streetfood', '#food', '#foodfood', '#reelkarofeelkaro', '#dilsefoodie', '#cholebhature', '#food', '#foodfood', '#streetfood', '#dilsefoodie', '#dilsecouple', '#naan', '#butter', '#butterchicken', '#dilsefoodie', '#southindian', '#food', '#breakfast', '#dilsefoodie', '#food', '#streetfood', '#combos', '#chicken', '#veg', '#dilsefoodie', '#food', '#streetfood', '#kachori', '#dilsefoodie', '#food', '#chicken', '#recipe', '#foodfood', '#dilsefoodie', '#buffet', '#food', '#rajasthan', '#laalmaas', '#dilsefoodie', '#dilsecouple', '#food', '#streetfood', '#parantha', '#MumbaiFoodJunkie', '#TimHortons', '#NewInMumbai', '#TimHortonsNowInMumbai', '#PudhilStationMumbai', '#mumbai', '#mumbaifood', '#mumbaifoodblogger', '#bandra', '#andheri', '#timhortonscanada', '#mumbaicafe', '#reels', '#reelsindia', '#viralreeĺs', '#reelkarofeelkaro', '#desifood', '#trendingreels', '#explorepage', '#bestcoffeeintown', '#coffeelover', '#donuts🍩', '#mumbaidiaries', '#mumbaicity', '#bandrawest', '#TimHortonsMumbai', '#MumbaiFoodJunkie', '#Shopping', '#NDTVBigBonus', '#DealsDealsDeals', '#Savings', '#DiscountCoupons', '#GiftCards', '#SmartShopper', '#LatestNews', '#News', '#IndiaNews', '#NDTV', '#Innovation', '#SingleID', '#Ad', '#RewardProgram', '#Mumbai', '#trendingreels', '#mumbaifood', '#mumbaioffers', '#mumbaishopping', '#reelsindia', '#mumbaiblogger', '#HotChocolate', '#MumbaiFoodJunkie', '#SoGoodIndia', '#SoGood', '#Consciousliving', '#plantbasedmilk', '#vegan', '#almondmilk', '#hotchocolaterecipe', '#mumbairains', '#mumbaifood', '#trendingreels', '#viralreeĺs', '#veganrecipe', '#recipereels', '#mumbaiblogger', '#easyrecipes', '#chocolovers', '#homemaderecipes', '#monsoonfood', '#MumbaiFoodJunkie', '#CaliforniaPizzaKitchen', '#Pizza', '#pizzatime', '#mumbai', '#mumbaifood', '#reelsindia', '#trendingreels', '#viralreeĺs', '#dadar', '#dadarmumbaikar', '#mumbaifoodblogger', '#mumbaidiaries', '#mumbairestaurants', '#mumbaioffers', '#dadarwest', '#mahim', '#matunga', '#reelkarofeelkaro', '#pastalover', '#navimumbai', '#navimumbaifoodblogger', '#MumbaiFoodJunkie', '#Vadapav', '#mumbairains', '#mumbai', '#mumbaifood', '#dadar', '#dadarmumbaikar', '#dadarwest', '#monsoondiaries', '#reelsindia', '#trendingreels', '#reelkarofeelkaro', '#aamchimumbai', '#ashokvadapav', '#MumbaiFoodJunkie', '#NewRestaurant', '#mumbai', '#mumbaifood', '#reelsindia', '#indianfood', '#trendingreels', '#viralreels', '#reelkarofeelkaro', '#mumbaifoodblogger', '#punjabi', '#goanfood', '#malvanifood', '#andheri', '#andheriwest', '#lokhandwala', '#mumbairains', '#desi', '#streetsofindia', '#foodreview', '#tandoori', '#mumbaieats', '#seafoodrestaurant', '#budgetfriendly', '#foodielife', '#MumbaiFoodJunkie', '#NewinMumbai', '#SwaraReviews', '#NamaskaramCafe', '#borivali', '#borivaliwest', '#borivalifood', '#mumbai', '#mumbaifood', '#mumbaistreetfood', '#streetsofindia', '#southindianfood', '#idli', '#dosa', '#southindiancuisine', '#reelsindia', '#reelitfeelit', '#viralreeĺs', '#trending', '#kandivali', '#malad', '#explorepage', '#foodreels', '#desi', '#mumbairains', '#mumbaifoodblogger', '#MumbaiFoodJunkie', '#JobAlert', '#mumbai', '#mumbaijobs', '#mumbaijobsearch', '#socialmediamarketing', '#socialmediaintern', '#videoeditor', '#videoeditorjobs', '#mumbaifoodblogger', '#contentcreator', '#jobvacancy', '#KudratiKahumbo', '#MumbaiFoodJunkie', '#mumbai', '#mumbaifood', '#reels', '#reelsindia', '#reelkarofeelkaro', '#mocktails', '#juices', '#mumbaistreetfood', '#kandivali', '#kandivalifood', '#kandivaliwest', '#mahavirnagar', '#streetsofindia', '#gujarati', '#mumbaifoodblogger', '#explorepage', '#trending', '#viralreeĺs', '#malad', '#borivali', '#streetfoodindia', '#drinklocal', '#drinkreels', '#MumbaiFoodJunkie', '#Saqi', '#NewInMumbai', '#collab', '#mumbai', '#mumbaifood', '#reelsindia', '#reelkarofeelkaro', '#viralreeĺs', '#foodreels', '#mumbairestaurants', '#mumbaifood', '#mumbaifoodblogger', '#mumbaicity', '#thingstodoinmumbai', '#khar', '#bandra', '#andheri', '#bandrawest', '#indianfood', '#fusionfood', '#trending', '#explorepage', '#streetsofindia', '#mumbaistreetfood', '#indianfoodblogger', '#mumbainightlife', '#rava', '#dosa', '#ravadosa', '#breakfast', '#healthybreakfast', '#southindianfood', '#southindianbreakfast', '#healthyfood', '#healthyrecipes', '#recipes', '#recipeoftheday', '#reelsvideo', '#reelsindia', '#reelsinstagram', '#reelitfeelit', '#reelkarofeelkaro', '#trending', '#explore', '#explorepage', '#southindianfood', '#chutney', '#instagood', '#foodiesfood_court', '#manchurian', '#manchurianrecipe', '#vegmanchurian', '#indochinese', '#streetfood', '#indianrecipes', '#recipes', '#videooftheday', '#easyrecipes', '#desikhana', '#explorepage', '#explore', '#paneerrecipes', '#soyabean', '#exploremore', '#quickrecipe', '#soyachunks', '#paneertikka', '#weekend', '#soyamanchurian', '#soyachilli', '#indianfood', '#chillipaneer', '#trending', '#vegrecipes', '#foodiesfood_court', '#potatorecipes', '#alootikki', '#foodvideos', '#vegrecipes', '#snacks', '#reelitfeelit', '#pakodarecipe', '#breadpakoda', '#easyrecipes', '#recipeoftheday', '#paneerpakoda', '#monsoon', '#rainyday', '#paneerrecipes', '#streetfood', '#reels', '#reelkarofeelkaro', '#breadrecipes', '#trending', '#weekend', '#desikhana', '#delhistreetfood', '#explore', '#explorepage', '#matarkulcha', '#chole', '#cholekulche', '#cholerecipe', '#recipes', '#indianrecipes', '#recipereels', '#instagram', '#reelitfeelit', '#streetfood', '#cholebhature', '#pindichole', '#easyrecipes', '#reels', '#delhi', '#delhifoodblogger', '#foodiesfood_court', '#paneer', '#paneerrecipes', '#trending', '#explorepage', '#explore', '#foodvideos', '#recipeoftheday', '#desikhana', '#weekend', '#reelsinstagram', '#MustardOil', '#HamdardMustardOil', '#KachGhaniMustardOil', '#IndianFood', '#KitchenEssentials', '#BihariDish', '#Tasty', '#Healthy', '#CholesterolFree', '#MustardOilDish', '#Cooking', '#DeliciousFood', '#Sudhhata', '#SarsoOil', '#ChickenCookingOil', '#LittiChokha', '#bihar', '#indianrecipes', '#bainganbharta', '#recipes', '#easyrecipes', '#explore', '#explorepage', '#reels', '#reelsinstagram', '#weekend', '#foodiesfood_court', '#kurkure', '#lays', '#chips', '#snacks', '#easyrecipes', '#weekend', '#quickrecipes', '#delhi', '#recipereels', '#reels', '#reelitfeelit', '#delhifood', '#reelsinstagram', '#reelkarofeelkaro', '#instagram', '#chaatrecipe', '#layschaat', '#laysrecipe', '#snacksrecipe', '#kurkurechaat', '#chakna', '#delhifoodblogger', '#chaat', '#bhelpuri', '#recipeoftheday', '#foodiesfood_court', '#viralvideos', '#trending', '#paneerstuffedmoongdalchilla', '#chilla', '#cheela', '#dosa', '#paneer', '#paneerrecipes', '#recipes', '#homecooking', '#dosabatter', '#moongdal', '#moongdalchilla', '#breakfast', '#healthyrecipe', '#easyrecipes', '#explorepage', '#breakfastrecipes', '#explore', '#foodiesfood_court', '#vegpulao', '#vegpulav', '#paneerpulao', '#cholepulao', '#biryani', '#vegrecipes', '#eeeeeats', '#desikhana', '#explore', '#explorepage', '#indianfood', '#indianrecipes', '#easyrecipes', '#foodvideos', '#recipes', '#recipeoftheday', '#paneerrecipes', '#pulao', '#chickenbiryani', '#chickenrecipes', '#soyapulao', '#trending', '#weekend', '#soyabean', '#foodiesfood_court', '#manchurianrecipe', '#vegmanchurian', '#indochinese', '#streetfood', '#indianrecipes', '#recipes', '#videooftheday', '#easyrecipes', '#desikhana', '#explorepage', '#explore', '#paneerrecipes', '#exploremore', '#quickrecipe', '#soyachunks', '#paneertikka', '#weekend', '#soyamanchurian', '#indianfood', '#chillipaneer', '#trending', '#vegrecipes', '#soyachilli', '#foodiesfood_court', '#paneerrecipes', '#paneertikka', '#paneerfrankie', '#streetfood', '#recipevideos', '#viralvideos', '#paneerroll', '#streetfoodindia', '#vegrecipes', '#vegroll', '#giveaway', '#recipeoftheday', '#trending', '#indianrecipes', '#desikhana', '#reels', '#reelsinstagram', '#easyrecipes', '#kathiroll', '#eggrolls', '#explore', '#biharfoodblogger', '#ftiinsider', '#oldschoolclassics', '#restaurants', '#mumbai', '#flavours', '#food', '#foodtalkindia', '#delicious', '#yummy', '#discover', '#dubai', '#uae', '#food', '#guide', '#bookmark', '#flavours', '#food', '#foodtalkindia', '#delicious', '#yummy', '#discover', '#weekendgetaway', '#weekendstays', '#staycation', '#foodtalkindia', '#discover', '#EpicEpicure', '#chardindia', '#burgers', '#delhi', '#flavours', '#food', '#foodtalkindia', '#delicious', '#yummy', '#discover', '#friendshipday', '#koreanbbq', '#arcade', '#bowling', '#games', '#bar', '#cocktails', '#drinks', '#delhincr', '#food', '#foodtalkindia', '#delicious', '#yummy', '#discover', '#EpicEpicure', '#fiopop', '#fiorestaurants', '#cafe', '#delhi', '#flavours', '#food', '#foodtalkindia', '#delicious', '#yummy', '#discover', '#burgers', '#mumbai', '#dinein', '#orderin', '#flavours', '#food', '#foodtalkindia', '#delicious', '#yummy', '#discover', '#butterchicken', '#deliciousdiscoveries', '#facts', '#delhi', '#flavours', '#food', '#foodtalkindia', '#delicious', '#yummy', '#discover', '#thedhanmill', '#eateries', '#delhi', '#flavours', '#food', '#drinks', '#bakes', '#foodtalkindia', '#delicious', '#yummy', '#discover', '#NewInTown', '#thebigchillcafe', '#dubai', '#cafe', '#delhi', '#flavours', '#food', '#foodtalkindia', '#delicious', '#yummy', '#discover']\n"
     ]
    }
   ],
   "source": [
    "#passing the list of users\n",
    "handles = list(total_post_count.keys())\n",
    "#calling the function to extract the hastags\n",
    "hashtags = extract_content(handles)\n",
    "print(hashtags)"
   ]
  },
  {
   "attachments": {},
   "cell_type": "markdown",
   "metadata": {},
   "source": [
    "##### 2.Prepare a list of all words used in all the scraped posts and calculate the frequency of each word."
   ]
  },
  {
   "cell_type": "code",
   "execution_count": 64,
   "metadata": {},
   "outputs": [
    {
     "name": "stdout",
     "output_type": "stream",
     "text": [
      "#food : 19\n",
      "#reelkarofeelkaro : 17\n",
      "#reels : 14\n",
      "#explore : 13\n",
      "#reelsinstagram : 12\n",
      "#streetfood : 12\n",
      "#explorepage : 12\n",
      "#reelitfeelit : 11\n",
      "#trending : 11\n",
      "#foodieincarnate : 10\n",
      "#dilsefoodie : 10\n",
      "#MumbaiFoodJunkie : 10\n",
      "#mumbai : 10\n",
      "#mumbaifood : 10\n",
      "#easyrecipes : 10\n",
      "#foodtalkindia : 10\n",
      "#discover : 10\n",
      "#reelsindia : 9\n",
      "#delicious : 9\n",
      "#yummy : 9\n",
      "#foodiesfood_court : 8\n",
      "#flavours : 8\n",
      "#mumbaifoodblogger : 7\n",
      "#recipes : 7\n",
      "#paneerrecipes : 7\n",
      "#weekend : 7\n",
      "#delhi : 7\n",
      "#viralreeĺs : 6\n",
      "#trendingreels : 6\n",
      "#recipeoftheday : 6\n",
      "#indianrecipes : 6\n",
      "#desikhana : 6\n",
      "#indianfood : 5\n",
      "#vegrecipes : 5\n",
      "#mumbairains : 4\n",
      "#streetsofindia : 4\n",
      "#dilsecouple : 3\n",
      "#foodfood : 3\n",
      "#breakfast : 3\n",
      "#andheri : 3\n",
      "#recipereels : 3\n",
      "#mumbaistreetfood : 3\n",
      "#southindianfood : 3\n",
      "#dosa : 3\n",
      "#paneertikka : 3\n",
      "#foodvideos : 3\n",
      "#chole : 2\n",
      "#cholebhature : 2\n",
      "#butterchicken : 2\n",
      "#chicken : 2\n",
      "#NewInMumbai : 2\n",
      "#bandra : 2\n",
      "#mumbaidiaries : 2\n",
      "#mumbaicity : 2\n",
      "#bandrawest : 2\n",
      "#mumbaioffers : 2\n",
      "#mumbaiblogger : 2\n",
      "#dadar : 2\n",
      "#dadarmumbaikar : 2\n",
      "#mumbairestaurants : 2\n",
      "#dadarwest : 2\n",
      "#desi : 2\n",
      "#borivali : 2\n",
      "#kandivali : 2\n",
      "#malad : 2\n",
      "#foodreels : 2\n",
      "#streetfoodindia : 2\n",
      "#manchurianrecipe : 2\n",
      "#vegmanchurian : 2\n",
      "#indochinese : 2\n",
      "#videooftheday : 2\n",
      "#soyabean : 2\n",
      "#exploremore : 2\n",
      "#quickrecipe : 2\n",
      "#soyachunks : 2\n",
      "#soyamanchurian : 2\n",
      "#soyachilli : 2\n",
      "#chillipaneer : 2\n",
      "#snacks : 2\n",
      "#instagram : 2\n",
      "#delhifoodblogger : 2\n",
      "#paneer : 2\n",
      "#viralvideos : 2\n",
      "#dubai : 2\n",
      "#EpicEpicure : 2\n",
      "#burgers : 2\n",
      "#drinks : 2\n",
      "#cafe : 2\n",
      "#surat : 1\n",
      "#gujarat : 1\n",
      "#sikh : 1\n",
      "#sikhisim : 1\n",
      "#shardai : 1\n",
      "#delhifoodcrush : 1\n",
      "#masala : 1\n",
      "#amarsirohi : 1\n",
      "#rosé : 1\n",
      "#gulkand : 1\n",
      "#Reelitfeelit : 1\n",
      "#kashmir : 1\n",
      "#srinagar : 1\n",
      "#Wendys : 1\n",
      "#WendysBurgers : 1\n",
      "#YummyBurgers : 1\n",
      "#GreatDeal : 1\n",
      "#chai : 1\n",
      "#tea : 1\n",
      "#subhashnagar : 1\n",
      "#kulche : 1\n",
      "#naan : 1\n",
      "#butter : 1\n",
      "#southindian : 1\n",
      "#combos : 1\n",
      "#veg : 1\n",
      "#kachori : 1\n",
      "#recipe : 1\n",
      "#buffet : 1\n",
      "#rajasthan : 1\n",
      "#laalmaas : 1\n",
      "#parantha : 1\n",
      "#TimHortons : 1\n",
      "#TimHortonsNowInMumbai : 1\n",
      "#PudhilStationMumbai : 1\n",
      "#timhortonscanada : 1\n",
      "#mumbaicafe : 1\n",
      "#desifood : 1\n",
      "#bestcoffeeintown : 1\n",
      "#coffeelover : 1\n",
      "#donuts🍩 : 1\n",
      "#TimHortonsMumbai : 1\n",
      "#Shopping : 1\n",
      "#NDTVBigBonus : 1\n",
      "#DealsDealsDeals : 1\n",
      "#Savings : 1\n",
      "#DiscountCoupons : 1\n",
      "#GiftCards : 1\n",
      "#SmartShopper : 1\n",
      "#LatestNews : 1\n",
      "#News : 1\n",
      "#IndiaNews : 1\n",
      "#NDTV : 1\n",
      "#Innovation : 1\n",
      "#SingleID : 1\n",
      "#Ad : 1\n",
      "#RewardProgram : 1\n",
      "#Mumbai : 1\n",
      "#mumbaishopping : 1\n",
      "#HotChocolate : 1\n",
      "#SoGoodIndia : 1\n",
      "#SoGood : 1\n",
      "#Consciousliving : 1\n",
      "#plantbasedmilk : 1\n",
      "#vegan : 1\n",
      "#almondmilk : 1\n",
      "#hotchocolaterecipe : 1\n",
      "#veganrecipe : 1\n",
      "#chocolovers : 1\n",
      "#homemaderecipes : 1\n",
      "#monsoonfood : 1\n",
      "#CaliforniaPizzaKitchen : 1\n",
      "#Pizza : 1\n",
      "#pizzatime : 1\n",
      "#mahim : 1\n",
      "#matunga : 1\n",
      "#pastalover : 1\n",
      "#navimumbai : 1\n",
      "#navimumbaifoodblogger : 1\n",
      "#Vadapav : 1\n",
      "#monsoondiaries : 1\n",
      "#aamchimumbai : 1\n",
      "#ashokvadapav : 1\n",
      "#NewRestaurant : 1\n",
      "#viralreels : 1\n",
      "#punjabi : 1\n",
      "#goanfood : 1\n",
      "#malvanifood : 1\n",
      "#andheriwest : 1\n",
      "#lokhandwala : 1\n",
      "#foodreview : 1\n",
      "#tandoori : 1\n",
      "#mumbaieats : 1\n",
      "#seafoodrestaurant : 1\n",
      "#budgetfriendly : 1\n",
      "#foodielife : 1\n",
      "#NewinMumbai : 1\n",
      "#SwaraReviews : 1\n",
      "#NamaskaramCafe : 1\n",
      "#borivaliwest : 1\n",
      "#borivalifood : 1\n",
      "#idli : 1\n",
      "#southindiancuisine : 1\n",
      "#JobAlert : 1\n",
      "#mumbaijobs : 1\n",
      "#mumbaijobsearch : 1\n",
      "#socialmediamarketing : 1\n",
      "#socialmediaintern : 1\n",
      "#videoeditor : 1\n",
      "#videoeditorjobs : 1\n",
      "#contentcreator : 1\n",
      "#jobvacancy : 1\n",
      "#KudratiKahumbo : 1\n",
      "#mocktails : 1\n",
      "#juices : 1\n",
      "#kandivalifood : 1\n",
      "#kandivaliwest : 1\n",
      "#mahavirnagar : 1\n",
      "#gujarati : 1\n",
      "#drinklocal : 1\n",
      "#drinkreels : 1\n",
      "#Saqi : 1\n",
      "#collab : 1\n",
      "#thingstodoinmumbai : 1\n",
      "#khar : 1\n",
      "#fusionfood : 1\n",
      "#indianfoodblogger : 1\n",
      "#mumbainightlife : 1\n",
      "#rava : 1\n",
      "#ravadosa : 1\n",
      "#healthybreakfast : 1\n",
      "#southindianbreakfast : 1\n",
      "#healthyfood : 1\n",
      "#healthyrecipes : 1\n",
      "#reelsvideo : 1\n",
      "#chutney : 1\n",
      "#instagood : 1\n",
      "#manchurian : 1\n",
      "#potatorecipes : 1\n",
      "#alootikki : 1\n",
      "#pakodarecipe : 1\n",
      "#breadpakoda : 1\n",
      "#paneerpakoda : 1\n",
      "#monsoon : 1\n",
      "#rainyday : 1\n",
      "#breadrecipes : 1\n",
      "#delhistreetfood : 1\n",
      "#matarkulcha : 1\n",
      "#cholekulche : 1\n",
      "#cholerecipe : 1\n",
      "#pindichole : 1\n",
      "#MustardOil : 1\n",
      "#HamdardMustardOil : 1\n",
      "#KachGhaniMustardOil : 1\n",
      "#IndianFood : 1\n",
      "#KitchenEssentials : 1\n",
      "#BihariDish : 1\n",
      "#Tasty : 1\n",
      "#Healthy : 1\n",
      "#CholesterolFree : 1\n",
      "#MustardOilDish : 1\n",
      "#Cooking : 1\n",
      "#DeliciousFood : 1\n",
      "#Sudhhata : 1\n",
      "#SarsoOil : 1\n",
      "#ChickenCookingOil : 1\n",
      "#LittiChokha : 1\n",
      "#bihar : 1\n",
      "#bainganbharta : 1\n",
      "#kurkure : 1\n",
      "#lays : 1\n",
      "#chips : 1\n",
      "#quickrecipes : 1\n",
      "#delhifood : 1\n",
      "#chaatrecipe : 1\n",
      "#layschaat : 1\n",
      "#laysrecipe : 1\n",
      "#snacksrecipe : 1\n",
      "#kurkurechaat : 1\n",
      "#chakna : 1\n",
      "#chaat : 1\n",
      "#bhelpuri : 1\n",
      "#paneerstuffedmoongdalchilla : 1\n",
      "#chilla : 1\n",
      "#cheela : 1\n",
      "#homecooking : 1\n",
      "#dosabatter : 1\n",
      "#moongdal : 1\n",
      "#moongdalchilla : 1\n",
      "#healthyrecipe : 1\n",
      "#breakfastrecipes : 1\n",
      "#vegpulao : 1\n",
      "#vegpulav : 1\n",
      "#paneerpulao : 1\n",
      "#cholepulao : 1\n",
      "#biryani : 1\n",
      "#eeeeeats : 1\n",
      "#pulao : 1\n",
      "#chickenbiryani : 1\n",
      "#chickenrecipes : 1\n",
      "#soyapulao : 1\n",
      "#paneerfrankie : 1\n",
      "#recipevideos : 1\n",
      "#paneerroll : 1\n",
      "#vegroll : 1\n",
      "#giveaway : 1\n",
      "#kathiroll : 1\n",
      "#eggrolls : 1\n",
      "#biharfoodblogger : 1\n",
      "#ftiinsider : 1\n",
      "#oldschoolclassics : 1\n",
      "#restaurants : 1\n",
      "#uae : 1\n",
      "#guide : 1\n",
      "#bookmark : 1\n",
      "#weekendgetaway : 1\n",
      "#weekendstays : 1\n",
      "#staycation : 1\n",
      "#chardindia : 1\n",
      "#friendshipday : 1\n",
      "#koreanbbq : 1\n",
      "#arcade : 1\n",
      "#bowling : 1\n",
      "#games : 1\n",
      "#bar : 1\n",
      "#cocktails : 1\n",
      "#delhincr : 1\n",
      "#fiopop : 1\n",
      "#fiorestaurants : 1\n",
      "#dinein : 1\n",
      "#orderin : 1\n",
      "#deliciousdiscoveries : 1\n",
      "#facts : 1\n",
      "#thedhanmill : 1\n",
      "#eateries : 1\n",
      "#bakes : 1\n",
      "#NewInTown : 1\n",
      "#thebigchillcafe : 1\n"
     ]
    }
   ],
   "source": [
    "#empty dictionary for storing the data\n",
    "dct = {}\n",
    "words_list = []\n",
    "#appending all name and frequecy of the word\n",
    "for word in hashtags:\n",
    "    dct[word] = dct.get(word,0) + 1\n",
    "\n",
    "#sorting the all the appended list in to decreasing format   \n",
    "for i in sorted(dct, key=dct.get, reverse=True):\n",
    "    words_list.append([i,dct[i]])\n",
    "    print(i,\":\",dct[i])"
   ]
  },
  {
   "attachments": {},
   "cell_type": "markdown",
   "metadata": {},
   "source": [
    "##### 3.Create a csv file with two columns : the word and its frequency"
   ]
  },
  {
   "cell_type": "code",
   "execution_count": 65,
   "metadata": {},
   "outputs": [
    {
     "data": {
      "text/html": [
       "<div>\n",
       "<style scoped>\n",
       "    .dataframe tbody tr th:only-of-type {\n",
       "        vertical-align: middle;\n",
       "    }\n",
       "\n",
       "    .dataframe tbody tr th {\n",
       "        vertical-align: top;\n",
       "    }\n",
       "\n",
       "    .dataframe thead th {\n",
       "        text-align: right;\n",
       "    }\n",
       "</style>\n",
       "<table border=\"1\" class=\"dataframe\">\n",
       "  <thead>\n",
       "    <tr style=\"text-align: right;\">\n",
       "      <th></th>\n",
       "      <th>Words</th>\n",
       "      <th>Frequency</th>\n",
       "    </tr>\n",
       "  </thead>\n",
       "  <tbody>\n",
       "    <tr>\n",
       "      <th>0</th>\n",
       "      <td>#food</td>\n",
       "      <td>19</td>\n",
       "    </tr>\n",
       "    <tr>\n",
       "      <th>1</th>\n",
       "      <td>#reelkarofeelkaro</td>\n",
       "      <td>17</td>\n",
       "    </tr>\n",
       "    <tr>\n",
       "      <th>2</th>\n",
       "      <td>#reels</td>\n",
       "      <td>14</td>\n",
       "    </tr>\n",
       "    <tr>\n",
       "      <th>3</th>\n",
       "      <td>#explore</td>\n",
       "      <td>13</td>\n",
       "    </tr>\n",
       "    <tr>\n",
       "      <th>4</th>\n",
       "      <td>#reelsinstagram</td>\n",
       "      <td>12</td>\n",
       "    </tr>\n",
       "    <tr>\n",
       "      <th>5</th>\n",
       "      <td>#streetfood</td>\n",
       "      <td>12</td>\n",
       "    </tr>\n",
       "    <tr>\n",
       "      <th>6</th>\n",
       "      <td>#explorepage</td>\n",
       "      <td>12</td>\n",
       "    </tr>\n",
       "    <tr>\n",
       "      <th>7</th>\n",
       "      <td>#reelitfeelit</td>\n",
       "      <td>11</td>\n",
       "    </tr>\n",
       "    <tr>\n",
       "      <th>8</th>\n",
       "      <td>#trending</td>\n",
       "      <td>11</td>\n",
       "    </tr>\n",
       "    <tr>\n",
       "      <th>9</th>\n",
       "      <td>#foodieincarnate</td>\n",
       "      <td>10</td>\n",
       "    </tr>\n",
       "  </tbody>\n",
       "</table>\n",
       "</div>"
      ],
      "text/plain": [
       "               Words  Frequency\n",
       "0              #food         19\n",
       "1  #reelkarofeelkaro         17\n",
       "2             #reels         14\n",
       "3           #explore         13\n",
       "4    #reelsinstagram         12\n",
       "5        #streetfood         12\n",
       "6       #explorepage         12\n",
       "7      #reelitfeelit         11\n",
       "8          #trending         11\n",
       "9   #foodieincarnate         10"
      ]
     },
     "execution_count": 65,
     "metadata": {},
     "output_type": "execute_result"
    }
   ],
   "source": [
    "#creating a csv file using pandas\n",
    "df = pd.DataFrame(words_list,columns=['Words','Frequency'])\n",
    "#using .to_csv pandas function to convert dataframe to csv\n",
    "df.to_csv('words_frequency.csv',index=False)\n",
    "df.head(10)"
   ]
  },
  {
   "attachments": {},
   "cell_type": "markdown",
   "metadata": {},
   "source": [
    "##### 4.Now, find the hashtags that were most popular among these bloggers"
   ]
  },
  {
   "cell_type": "code",
   "execution_count": 66,
   "metadata": {},
   "outputs": [
    {
     "name": "stdout",
     "output_type": "stream",
     "text": [
      "#food\n"
     ]
    }
   ],
   "source": [
    "#because i have stored the list in decreasing order for this problem i have to only use indexing to find the most popular hastag\n",
    "print(words_list[0][0])"
   ]
  },
  {
   "attachments": {},
   "cell_type": "markdown",
   "metadata": {},
   "source": [
    "##### 5.Plot a Pie Chart of the top 5 hashtags obtained and the number of times they were used by these bloggers in the scraped posts."
   ]
  },
  {
   "cell_type": "code",
   "execution_count": 67,
   "metadata": {},
   "outputs": [
    {
     "data": {
      "image/png": "[encoded data removed]",
      "text/plain": [
       "<Figure size 1200x600 with 1 Axes>"
      ]
     },
     "metadata": {},
     "output_type": "display_data"
    }
   ],
   "source": [
    "#extracting the hastag name and also count\n",
    "hashtag_name = [words_list[i][0] for i in range(5)]\n",
    "count = [words_list[i][1] for i in range(5)]\n",
    "\n",
    "# Sorting the data in descending order\n",
    "sorted_indices = sorted(range(len(count)), key=lambda k: count[k], reverse=True)\n",
    "hashtag_name = [hashtag_name[i] for i in sorted_indices]\n",
    "count = [count[i] for i in sorted_indices]\n",
    "\n",
    "# Exploding the first slice\n",
    "explode = [0.1] + [0] * 4\n",
    "\n",
    "# Using a color palette for the pie chart\n",
    "colors = plt.cm.Set3.colors\n",
    "\n",
    "plt.figure(figsize=(12, 6))\n",
    "plt.pie(count, labels=hashtag_name, autopct='%0.2f%%', radius=1, counterclock=False, startangle=220, explode=explode, colors=colors)\n",
    "plt.title('Top 5 Hashtags Used by Bloggers', fontsize=20, color='black', alpha=0.8)\n",
    "\n",
    "# Adding a legend\n",
    "plt.legend(title='Hashtags', loc='best', bbox_to_anchor=(1, 0.5))\n",
    "\n",
    "# Equal aspect ratio ensures that the pie chart is circular.\n",
    "plt.axis('equal') \n",
    "plt.show()\n"
   ]
  },
  {
   "attachments": {},
   "cell_type": "markdown",
   "metadata": {},
   "source": [
    "### Problem 3 : Followers : Likes ratio\n",
    "You need to also calculate average followers : likes ratio for the obtained handles.\n",
    "Followers : Likes ratio is calculated as follows:  \n",
    "1.Find out the likes of the top 10 posts of the 5 handles obtained earlier.  \n",
    "2.Calculate the average likes for a handle.  \n",
    "3.Divide the average likes obtained from the number of followers of the handle to get the average followers:like ratio of each handle.  \n",
    "4.Create a bar graph to depict the above obtained information.  "
   ]
  },
  {
   "attachments": {},
   "cell_type": "markdown",
   "metadata": {},
   "source": [
    "##### 1.Find out the likes of the top 10 posts of the 5 handles obtained earlier."
   ]
  },
  {
   "cell_type": "code",
   "execution_count": 68,
   "metadata": {},
   "outputs": [],
   "source": [
    "#This function returns list of likes of 10 post of a user\n",
    "def get_likes(user):\n",
    "    try :\n",
    "        #This fuction will search a user and open that profile\n",
    "        search_opening_profiles(user)\n",
    "        time.sleep(2)\n",
    "        #just for scrolling\n",
    "        driver.execute_script('window.scrollTo(0, 3000);')\n",
    "        time.sleep(1)\n",
    "        driver.execute_script('window.scrollTo(0, -3000);')\n",
    "        likes = []\n",
    "        #locating the post of the user\n",
    "        posts = driver.find_elements(By.CLASS_NAME,\"_aagw\")\n",
    "        posts[0].click()\n",
    "        for post in posts[:10]:\n",
    "            try:\n",
    "                views = wait.until(EC.presence_of_element_located((By.XPATH,\"//div[contains(@class,'_aauv')]\")))\n",
    "                views.click()\n",
    "                like = driver.find_element(By.XPATH,\"//section[contains(@class,'_ae5m')]\")\n",
    "                no_of_likes = like.text.split()[0].replace(\",\",\"\")\n",
    "                likes.append(int(no_of_likes)) \n",
    "            except TimeoutException:\n",
    "                like = driver.find_element(By.XPATH,\"//section[contains(@class,'_ae5m')]\")\n",
    "                no_of_likes = like.text.split()[0].replace(\",\",\"\")\n",
    "                likes.append(int(no_of_likes))   \n",
    "            # after done fetching the data closing the post section completely.\n",
    "            next_post = driver.find_element(By.CSS_SELECTOR,\"button[class ='_abl-']\")\n",
    "            next_post.click()  \n",
    "            time.sleep(1)                    \n",
    "        return likes\n",
    "    except TimeoutException:\n",
    "        print(\"Something Went Wrong! Try Again\")"
   ]
  },
  {
   "attachments": {},
   "cell_type": "markdown",
   "metadata": {},
   "source": [
    "### This function will be taking some amount of time so be patient"
   ]
  },
  {
   "cell_type": "code",
   "execution_count": 52,
   "metadata": {},
   "outputs": [
    {
     "name": "stdout",
     "output_type": "stream",
     "text": [
      "Number of likes of the top 10 posts of foodie_incarnate :\n",
      "13696 Likes\n",
      "44627 Likes\n",
      "13696 Likes\n",
      "44627 Likes\n",
      "13696 Likes\n",
      "44627 Likes\n",
      "13696 Likes\n",
      "44627 Likes\n",
      "13696 Likes\n",
      "44627 Likes\n",
      "\n",
      "Number of likes of the top 10 posts of dilsefoodie :\n",
      "7223 Likes\n",
      "4506 Likes\n",
      "7223 Likes\n",
      "4506 Likes\n",
      "7223 Likes\n",
      "4506 Likes\n",
      "7223 Likes\n",
      "4506 Likes\n",
      "7223 Likes\n",
      "4506 Likes\n",
      "\n",
      "Number of likes of the top 10 posts of food :\n",
      "20689 Likes\n",
      "264 Likes\n",
      "20689 Likes\n",
      "264 Likes\n",
      "20689 Likes\n",
      "264 Likes\n",
      "20689 Likes\n",
      "264 Likes\n",
      "20689 Likes\n",
      "264 Likes\n",
      "\n",
      "Number of likes of the top 10 posts of foodiesfood_court :\n",
      "1544 Likes\n",
      "43411 Likes\n",
      "1544 Likes\n",
      "43411 Likes\n",
      "1544 Likes\n",
      "43411 Likes\n",
      "1544 Likes\n",
      "43411 Likes\n",
      "1544 Likes\n",
      "43411 Likes\n",
      "\n",
      "Number of likes of the top 10 posts of foodtalkindia :\n",
      "32 Likes\n",
      "87 Likes\n",
      "32 Likes\n",
      "87 Likes\n",
      "32 Likes\n",
      "87 Likes\n",
      "32 Likes\n",
      "87 Likes\n",
      "32 Likes\n",
      "87 Likes\n",
      "\n"
     ]
    }
   ],
   "source": [
    "#dct will store username with list of likes\n",
    "dct = {}\n",
    "for user in handles : \n",
    "    likes = get_likes(user)\n",
    "    dct[user] = likes\n",
    "    print('Number of likes of the top 10 posts of',user,':')\n",
    "    for i in likes :\n",
    "        print(i,'Likes')\n",
    "    print()"
   ]
  },
  {
   "attachments": {},
   "cell_type": "markdown",
   "metadata": {},
   "source": [
    "##### 2.Calculate the average likes for a handle."
   ]
  },
  {
   "cell_type": "code",
   "execution_count": 53,
   "metadata": {},
   "outputs": [],
   "source": [
    "#This function will return a dictionary of {'username':average like}\n",
    "def get_avg_likes(d):\n",
    "    avg_likes = {}\n",
    "    for key,val in d.items():\n",
    "            avg = sum(val) // 10\n",
    "            avg_likes[key] = avg\n",
    "    return avg_likes"
   ]
  },
  {
   "cell_type": "code",
   "execution_count": 54,
   "metadata": {},
   "outputs": [
    {
     "name": "stdout",
     "output_type": "stream",
     "text": [
      "Average likes for each handle are :\n",
      "foodie_incarnate : 29161\n",
      "dilsefoodie : 5864\n",
      "food : 10476\n",
      "foodiesfood_court : 22477\n",
      "foodtalkindia : 59\n"
     ]
    }
   ],
   "source": [
    "avg_likes = get_avg_likes(dct)\n",
    "\n",
    "print('Average likes for each handle are :')\n",
    "for user,likes in avg_likes.items():\n",
    "    print(user, ':', likes)"
   ]
  },
  {
   "attachments": {},
   "cell_type": "markdown",
   "metadata": {},
   "source": [
    "##### 3.Divide the average likes obtained from the number of followers of the handle to get the average followers:like ratio of each handle."
   ]
  },
  {
   "cell_type": "code",
   "execution_count": 55,
   "metadata": {},
   "outputs": [],
   "source": [
    "#This function will return dictionary of {'username':avg followers-like ratio}\n",
    "def getavg_foll_like_ratio(top_handles,avg_like,users):\n",
    "    foll_like = {}\n",
    "    for i in range(5) :\n",
    "        foll_like[users[i]] = top_handles[users[i]]//avg_like[users[i]]\n",
    "    return foll_like"
   ]
  },
  {
   "cell_type": "code",
   "execution_count": 58,
   "metadata": {},
   "outputs": [
    {
     "name": "stdout",
     "output_type": "stream",
     "text": [
      "Average followers:like ratio of each handle :\n",
      "foodie_incarnate : 56\n",
      "dilsefoodie : 193\n",
      "food : 81\n",
      "foodiesfood_court : 38\n",
      "foodtalkindia : 5249\n"
     ]
    }
   ],
   "source": [
    "#here I am using the answer of problem 1.1 which contains a dictionary of {'username':followers} ie top_handles\n",
    "#extracing username from top_handles\n",
    "top_handles_names = list(top_handles.keys())\n",
    "#now calling function getavg_foll_like_ratio(top_handles,avg_like,users) \n",
    "avg_fol_like_ratio = getavg_foll_like_ratio(top_handles, avg_likes, top_handles_names)\n",
    "print('Average followers:like ratio of each handle :')\n",
    "for user,ratio in avg_fol_like_ratio.items():\n",
    "    print(user, ':', ratio)"
   ]
  },
  {
   "attachments": {},
   "cell_type": "markdown",
   "metadata": {},
   "source": [
    "##### 4.Create a bar graph to depict the above obtained information."
   ]
  },
  {
   "cell_type": "code",
   "execution_count": 75,
   "metadata": {},
   "outputs": [
    {
     "data": {
      "image/png": "[encoded data removed]",
      "text/plain": [
       "<Figure size 640x480 with 1 Axes>"
      ]
     },
     "metadata": {},
     "output_type": "display_data"
    }
   ],
   "source": [
    "#for this I will use answer of problem 3.2 \n",
    "username = list(avg_likes.keys())\n",
    "avg_like = list(avg_likes.values())\n",
    "\n",
    "plt.bar(username,avg_like,color='g',alpha=0.6)\n",
    "plt.ylabel(\"Average Likes\",size=15)\n",
    "plt.xlabel(\"Handle's Name\",size=15)\n",
    "plt.title('Average like for each handle ',fontsize=20, color='black',alpha=0.8)\n",
    "plt.xticks(rotation=10)\n",
    "plt.grid()\n",
    "plt.show()"
   ]
  },
  {
   "cell_type": "code",
   "execution_count": 73,
   "metadata": {},
   "outputs": [
    {
     "data": {
      "image/png": "[encoded data removed]",
      "text/plain": [
       "<Figure size 640x480 with 1 Axes>"
      ]
     },
     "metadata": {},
     "output_type": "display_data"
    }
   ],
   "source": [
    "# Plotting Bar Graph for average followers:like ratio of each handle\n",
    "#For this I will use answer of problem 3.3\n",
    "username = list(avg_fol_like_ratio.keys())\n",
    "avg_like = list(avg_fol_like_ratio.values())\n",
    "\n",
    "plt.bar(username,avg_like,color='Indigo',alpha=0.6)\n",
    "plt.ylabel(\"Average Followers:Like Ratio\",size=12)\n",
    "plt.xlabel(\"Handle's Name\",size=12)\n",
    "plt.title('Average Followers:Like Ratio of Each Handle ',fontsize=20, color='black',alpha=0.8)\n",
    "plt.xticks(rotation=10)\n",
    "plt.grid()\n",
    "plt.show()"
   ]
  },
  {
   "cell_type": "code",
   "execution_count": null,
   "metadata": {},
   "outputs": [],
   "source": []
  }
 ],
 "metadata": {
  "kernelspec": {
   "display_name": "Python 3",
   "language": "python",
   "name": "python3"
  },
  "language_info": {
   "codemirror_mode": {
    "name": "ipython",
    "version": 3
   },
   "file_extension": ".py",
   "mimetype": "text/x-python",
   "name": "python",
   "nbconvert_exporter": "python",
   "pygments_lexer": "ipython3",
   "version": "3.11.3"
  },
  "orig_nbformat": 4
 },
 "nbformat": 4,
 "nbformat_minor": 2
}
