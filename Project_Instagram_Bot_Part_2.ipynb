{
 "cells": [
  {
   "attachments": {},
   "cell_type": "markdown",
   "metadata": {},
   "source": [
    "# InstaBot - Part 2"
   ]
  },
  {
   "cell_type": "code",
   "execution_count": 358,
   "metadata": {},
   "outputs": [],
   "source": [
    "# importing all the libraries \n",
    "import time\n",
    "import numpy as np\n",
    "import pandas as pd\n",
    "from bs4 import BeautifulSoup\n",
    "from selenium import webdriver\n",
    "import matplotlib.pyplot as plt\n",
    "from collections import OrderedDict\n",
    "from datetime import datetime, timedelta\n",
    "from selenium.webdriver.common.by import By\n",
    "from selenium.webdriver.support.ui import WebDriverWait\n",
    "from selenium.common.exceptions import ElementClickInterceptedException\n",
    "from selenium.common.exceptions import NoSuchElementException\n",
    "from selenium.common.exceptions import StaleElementReferenceException\n",
    "from selenium.common.exceptions import TimeoutException\n",
    "from selenium.webdriver.support import expected_conditions as EC\n"
   ]
  },
  {
   "cell_type": "code",
   "execution_count": 359,
   "metadata": {},
   "outputs": [
    {
     "name": "stderr",
     "output_type": "stream",
     "text": [
      "The version of chrome cannot be detected. Trying with latest driver version\n"
     ]
    }
   ],
   "source": [
    "# initializing the webdriver browser \n",
    "# you can set the executable path of your chrome_driver underneath\n",
    "driver = webdriver.Chrome()\n",
    "driver.maximize_window()"
   ]
  },
  {
   "cell_type": "code",
   "execution_count": 361,
   "metadata": {},
   "outputs": [],
   "source": [
    "# initializing a get request to the browser for Instagram.com\n",
    "driver.get('https://www.instagram.com/')"
   ]
  },
  {
   "cell_type": "code",
   "execution_count": 360,
   "metadata": {},
   "outputs": [],
   "source": [
    "# update your username and password for log in \n",
    "username = 'shirpure1998'\n",
    "password = 'Shirpure1998@'"
   ]
  },
  {
   "cell_type": "code",
   "execution_count": 362,
   "metadata": {},
   "outputs": [],
   "source": [
    "# initializing object for WebDriverWait\n",
    "wait = WebDriverWait(driver, 15)"
   ]
  },
  {
   "cell_type": "code",
   "execution_count": 363,
   "metadata": {},
   "outputs": [],
   "source": [
    "#this function lets you login in your Instagram handle\n",
    "def LogIn(username, password):\n",
    "    try :\n",
    "        #locating the username textbox and sending username\n",
    "        user_name = wait.until(EC.presence_of_element_located((By.NAME,\"username\")))\n",
    "        #making sure that user name input box is clear\n",
    "        user_name.clear()\n",
    "        time.sleep(1)\n",
    "        user_name.send_keys(username)\n",
    "        #locating the password textbox and sending password\n",
    "        pwd = driver.find_element(By.NAME,\"password\")\n",
    "        #making sure that password input box is clear\n",
    "        pwd.clear()\n",
    "        time.sleep(1)\n",
    "        pwd.send_keys(password)\n",
    "        #locating login button\n",
    "        button = wait.until(EC.presence_of_element_located((By.CSS_SELECTOR,\"button[type = 'submit']\")))\n",
    "        button.submit()\n",
    "        #Save Your Login Info? : Not Now\n",
    "        pop1 = wait.until(EC.presence_of_element_located((By.XPATH,'//div[contains(text(),\"Not Now\")]')))\n",
    "        pop1.click()\n",
    "        #notification Turn on or Not\n",
    "        pop2 = wait.until(EC.presence_of_element_located((By.XPATH,\"//button[contains(@class,'_a9--')]\")))\n",
    "        pop2.click()\n",
    "        \n",
    "    except TimeoutException :\n",
    "        print (\"Something went wrong! Try Again\")"
   ]
  },
  {
   "cell_type": "code",
   "execution_count": 364,
   "metadata": {},
   "outputs": [],
   "source": [
    "#call the function to Log in to your Instagram Handle\n",
    "#change the login credentials above if you want to login in some different instagram handle\n",
    "LogIn(username,password)"
   ]
  },
  {
   "cell_type": "code",
   "execution_count": 365,
   "metadata": {},
   "outputs": [],
   "source": [
    "#this function lets you search a profile and open it\n",
    "def search_opening_profiles(value):\n",
    "    driver.refresh()\n",
    "    time.sleep(1)\n",
    "    try :\n",
    "        #notification Turn on or Not\n",
    "        pop2 = driver.find_element(By.XPATH,\"//button[contains(@class,'_a9--')]\")\n",
    "        pop2.click()\n",
    "    except ElementClickInterceptedException:\n",
    "        pass        \n",
    "    except TimeoutException:\n",
    "        pass\n",
    "    except NoSuchElementException:\n",
    "        pass\n",
    "    try:\n",
    "        #locating the search box and cliking on it\n",
    "        search_box = wait.until(EC.presence_of_element_located((By.CSS_SELECTOR,'svg[aria-label=\"Search\"]')))\n",
    "        search_box.click() \n",
    "        time.sleep(1)\n",
    "        #sending the value in the search box\n",
    "        sending_value = driver.find_element(By.CSS_SELECTOR,'input[aria-label = \"Search input\"]')\n",
    "        sending_value.clear()\n",
    "        sending_value.send_keys(value)\n",
    "        time.sleep(2)\n",
    "        #waiting till the searched is done\n",
    "        wait.until(EC.presence_of_element_located((By.XPATH,\"//div[contains(@class,'x6s0dn4')]/div/a\")))\n",
    "        time.sleep(1)\n",
    "        #retry mechanism for StaleElementReferenceException\n",
    "        for i in range(3):\n",
    "            try:\n",
    "                #finding the searched account and clicking on it.\n",
    "                account = wait.until(EC.presence_of_element_located((By.XPATH,\"//div[contains(@class,'x6s0dn4')]/div/a\")))\n",
    "                account.click()\n",
    "                break\n",
    "            except StaleElementReferenceException: \n",
    "                continue\n",
    "        #after done searching it will remove the search bar and gives you the full page of that Instagram handler.\n",
    "        try:\n",
    "            wait.until(EC.presence_of_element_located((By.XPATH,\"//div[contains(@class,'_aawn')]\")))\n",
    "            wait.until(EC.presence_of_element_located((By.XPATH,'//div[contains(@class,\"_aa_y\")]'))).click() \n",
    "            time.sleep(2)\n",
    "        except NoSuchElementException:\n",
    "            pass\n",
    "    except ElementClickInterceptedException:\n",
    "        close = driver.find_element(By.CSS_SELECTOR,\"svg[aria-label='Close']\")\n",
    "        close.click()\n",
    "        print(\"Try Again\")  \n",
    "        print(\"Something Went Wrong!\")     \n",
    "    except TimeoutException:\n",
    "        print(\"No Search Found!\")"
   ]
  },
  {
   "cell_type": "code",
   "execution_count": 366,
   "metadata": {},
   "outputs": [],
   "source": [
    "#this function lets you search for accounts, and it returns the list of all accounts.\n",
    "def search(value):\n",
    "    try:\n",
    "        #locating the search box and cliking on it\n",
    "        search_box = wait.until(EC.presence_of_element_located((By.CSS_SELECTOR,'svg[aria-label=\"Search\"]')))\n",
    "        search_box.click()\n",
    "        #sending the value in the search box\n",
    "        sending_value = driver.find_element(By.CSS_SELECTOR,'input[aria-label = \"Search input\"]')\n",
    "        sending_value.clear()\n",
    "        sending_value.send_keys(value)\n",
    "        # waiting till all search is done.\n",
    "        time.sleep(2)\n",
    "        #locating and extracting all the search handles. \n",
    "        handling_names = wait.until(EC.presence_of_all_elements_located((By.XPATH,\"//a[contains(@class,'x1i10hfl')]\")))\n",
    "        names = []\n",
    "        for i in handling_names:\n",
    "            try:\n",
    "                if i.text and i.text[0] != \"#\":\n",
    "                    names.append(i.text.split(\"\\n\")[0])\n",
    "            except StaleElementReferenceException:\n",
    "                 handling_names = wait.until(EC.presence_of_all_elements_located((By.CSS_SELECTOR,\"div[role = 'none']\")))        \n",
    "        #clearing the search bar\n",
    "        driver.find_element(By.CSS_SELECTOR,'div[aria-label = \"Clear the search box\"]').click()\n",
    "        #clicking on the search bar again so that it can close.\n",
    "        search_box = wait.until(EC.presence_of_element_located((By.CSS_SELECTOR,'svg[aria-label=\"Search\"]')))\n",
    "        search_box.click()\n",
    "        return names\n",
    "    except TimeoutException:\n",
    "        print(\"No Search Found!\")"
   ]
  },
  {
   "attachments": {},
   "cell_type": "markdown",
   "metadata": {},
   "source": [
    "### Problem 1 : Analyse the habits of bloggers\n",
    "Now your friend has followed a lot of different food bloggers, he needs to analyse the habits of these bloggers.    \n",
    "1.From the list of instagram handles you obtained when you searched ‘food’ in previous project. Open the first 10 handles and find the top 5 which have the highest number of followers  \n",
    "2.Now Find the number of posts these handles have done in the previous 3 days.  \n",
    "3.Depict this information using a suitable graph.  "
   ]
  },
  {
   "cell_type": "code",
   "execution_count": 367,
   "metadata": {},
   "outputs": [
    {
     "data": {
      "text/plain": [
       "['mumbaifoodjunkie',\n",
       " 'food_lunatic',\n",
       " 'foodiesfood_court',\n",
       " 'foodgod',\n",
       " 'tasty_foodgram_in',\n",
       " 'fun2ooshfood',\n",
       " 'food',\n",
       " 'foodie_incarnate',\n",
       " 'foodtalkindia',\n",
       " 'delhifoodwalks']"
      ]
     },
     "execution_count": 367,
     "metadata": {},
     "output_type": "execute_result"
    }
   ],
   "source": [
    "#First 10 handles from part-1\n",
    "result = search(\"food\")\n",
    "first_10_handles = result[:10]\n",
    "first_10_handles"
   ]
  },
  {
   "cell_type": "code",
   "execution_count": 368,
   "metadata": {},
   "outputs": [],
   "source": [
    "#this function helps you get the top 5 Insta Handles\n",
    "def top_5_handles(first_10_handles):\n",
    "    try:\n",
    "        #locating the search box and cliking on it\n",
    "        search_box = wait.until(EC.presence_of_element_located((By.CSS_SELECTOR,'svg[aria-label=\"Search\"]')))\n",
    "        search_box.click() \n",
    "        #an empty dictionary to store the values\n",
    "        top_5 = {}\n",
    "        #loop for opening profile and taking out the followers numbers and appending it into the empty dictionary.\n",
    "        for i in first_10_handles: \n",
    "            #calling function to open profiles\n",
    "            search_opening_profiles(i)\n",
    "            # waiting till all search is done.\n",
    "            time.sleep(2)\n",
    "            #locating and getting the number of followers.\n",
    "            followers = wait.until(EC.presence_of_all_elements_located((By.CLASS_NAME,\"_ac2a\")))[1]\n",
    "            #appending the key value pair in top_5\n",
    "            top_5[i] = int(followers.get_attribute(\"title\").replace(\",\",\"\"))\n",
    "            count = 0\n",
    "            new_result = {}\n",
    "            #sorting the dictionary on basis of there followers using sorted function\n",
    "            for i in sorted(top_5 , key=top_5.get, reverse=True):\n",
    "                new_result[i] = top_5[i]\n",
    "                count = count + 1\n",
    "                if count == 5:\n",
    "                    break            \n",
    "        return new_result\n",
    "    except TimeoutException:\n",
    "        print(\"Something went wrong!, Try Again\")"
   ]
  },
  {
   "cell_type": "code",
   "execution_count": 369,
   "metadata": {},
   "outputs": [
    {
     "name": "stdout",
     "output_type": "stream",
     "text": [
      "Top 5 instagram handles which have the highest number of followers\n",
      "foodgod : 3895930\n",
      "foodie_incarnate : 1623710\n",
      "foodiesfood_court : 846167\n",
      "foodtalkindia : 309685\n",
      "delhifoodwalks : 195313\n"
     ]
    }
   ],
   "source": [
    "#calling the top_5_handles function and storing the value in the result variable\n",
    "result = top_5_handles(first_10_handles)\n",
    "print('Top 5 instagram handles which have the highest number of followers')\n",
    "for key,value in result.items():\n",
    "    print(key,\":\",value)"
   ]
  },
  {
   "attachments": {},
   "cell_type": "markdown",
   "metadata": {},
   "source": [
    "##### 2.Now Find the number of posts these handles have done in the previous 3 days."
   ]
  },
  {
   "cell_type": "code",
   "execution_count": 370,
   "metadata": {},
   "outputs": [],
   "source": [
    "#this function let you know the number of post the user post in given days.\n",
    "def number_of_post(day):\n",
    "    try:\n",
    "        #finding the first post and clicking on it.\n",
    "        post = wait.until(EC.presence_of_element_located((By.CLASS_NAME,\"_aagw\")))\n",
    "        post.click()\n",
    "        time.sleep(1)\n",
    "        #running a loop for comparing and counting the number of posts the user post in given days.\n",
    "        count = 0\n",
    "        while True:\n",
    "            #locating the date\n",
    "            temp = wait.until(EC.presence_of_element_located((By.XPATH,\"//time[contains(@class,'_a9ze')]\")))\n",
    "            time.sleep(1)\n",
    "            #getting the date in string fromat\n",
    "            date_string = temp.get_attribute(\"datetime\")\n",
    "            #format code of given date\n",
    "            format_code = \"%Y-%m-%dT%H:%M:%S\"\n",
    "            #parsing the date in datetime and converting it into date format.\n",
    "            date = datetime.strptime(date_string[:19],format_code)\n",
    "            #taking differnce between today's date and post posted date\n",
    "            if (datetime.now() - date).days > day:\n",
    "                break\n",
    "            else:\n",
    "                count = count + 1\n",
    "            #locating the next_post button and clicking on it\n",
    "            next_post = wait.until(EC.presence_of_element_located((By.CSS_SELECTOR,\"svg[aria-label='Next']\")))\n",
    "            next_post.click()\n",
    "            time.sleep(2)\n",
    "        # after done fetching the data closing the post section completely.\n",
    "        close = wait.until(EC.presence_of_element_located((By.CSS_SELECTOR,\"svg[aria-label='Close']\")))\n",
    "        close.click()\n",
    "        return count\n",
    "    except ElementClickInterceptedException:\n",
    "        driver.refresh()\n",
    "        print(\"Try Again Please!\")\n",
    "    except TimeoutException:\n",
    "        print(\"Something Went Wrong!, Try Again\")"
   ]
  },
  {
   "cell_type": "code",
   "execution_count": 371,
   "metadata": {},
   "outputs": [
    {
     "name": "stdout",
     "output_type": "stream",
     "text": [
      "Number of posts these handles have done in the previous 3 days : -\n",
      "foodgod : 0\n",
      "foodie_incarnate : 1\n",
      "foodiesfood_court : 4\n",
      "foodtalkindia : 4\n",
      "delhifoodwalks : 4\n"
     ]
    }
   ],
   "source": [
    "#calling the function to get the result\n",
    "#empty dict to store the data\n",
    "total_post_count = {}\n",
    "#loop to open all profile and get the required data.\n",
    "for i in result:\n",
    "    search_opening_profiles(i)\n",
    "    time.sleep(3)\n",
    "    count = number_of_post(3)\n",
    "    total_post_count[i] = count\n",
    "print('Number of posts these handles have done in the previous 3 days : -')\n",
    "for i in total_post_count:\n",
    "    print(i,\":\",total_post_count[i])"
   ]
  },
  {
   "attachments": {},
   "cell_type": "markdown",
   "metadata": {},
   "source": [
    "##### 3.Depict this information using a suitable graph."
   ]
  },
  {
   "cell_type": "code",
   "execution_count": 372,
   "metadata": {},
   "outputs": [
    {
     "data": {
      "image/png": "[encoded data removed]",
      "text/plain": [
       "<Figure size 800x400 with 2 Axes>"
      ]
     },
     "metadata": {},
     "output_type": "display_data"
    }
   ],
   "source": [
    "import matplotlib.pyplot as plt\n",
    "import matplotlib.ticker as ticker\n",
    "\n",
    "# Sample data (replace with your actual data)\n",
    "instagram_handles = result.keys()\n",
    "follower_counts = result.values()\n",
    "post_counts = total_post_count.values()\n",
    "\n",
    "# Create a figure and axis\n",
    "fig, ax1 = plt.subplots(figsize=(8, 4))\n",
    "\n",
    "# Plot follower counts as a bar graph on the left y-axis\n",
    "ax1.bar(range(1, len(instagram_handles) + 1), follower_counts, color='green')\n",
    "ax1.set_ylabel('Follower Count', color='green')\n",
    "ax1.tick_params(axis='y', labelcolor='black')\n",
    "\n",
    "# Create a second y-axis on the right for post counts\n",
    "ax2 = ax1.twinx()\n",
    "\n",
    "# Plot post counts as a bar graph on the right y-axis\n",
    "# Plot post counts as a bar graph on the right y-axis without transparency\n",
    "ax2.bar(range(1, len(instagram_handles) + 1), post_counts, color='orange')\n",
    "ax2.set_ylabel('Post Count', color='orange')\n",
    "ax2.tick_params(axis='y', labelcolor='black')\n",
    "\n",
    "# Set the title and labels\n",
    "plt.title('Top 5 Instagram Handles - Follower Count vs. Post Count')\n",
    "plt.xlabel('Instagram Handles')\n",
    "\n",
    "# Format the x-axis ticks to start from 1 and increment by 1\n",
    "plt.xticks(range(1, len(instagram_handles) + 1), instagram_handles, rotation=45, ha='right')\n",
    "\n",
    "# Format the y-axis labels to show accurate follower counts\n",
    "def format_follower_count(x, pos):\n",
    "    return f'{int(x):,}'  # Format the number with commas as thousands separators\n",
    "\n",
    "ax1.yaxis.set_major_formatter(ticker.FuncFormatter(format_follower_count))\n",
    "\n",
    "# Set font size for x and y axis labels and the title\n",
    "ax1.set_xlabel('Instagram Handles', fontsize=12)\n",
    "ax1.set_ylabel('Follower Count', color='green', fontsize=12)\n",
    "ax2.set_ylabel('Post Count', color='orange', fontsize=12)\n",
    "plt.title('Top 5 Instagram Handles - Follower Count vs. Post Count', fontsize=14)\n",
    "\n",
    "# Add some padding to the plot\n",
    "plt.tight_layout()\n",
    "\n",
    "# Show the plot\n",
    "plt.show()\n",
    "\n"
   ]
  },
  {
   "attachments": {},
   "cell_type": "markdown",
   "metadata": {},
   "source": [
    "### Problem 2 : List of hashtags\n",
    "Your friend also needs a list of hashtags that he should use in his posts.  \n",
    "1.Open the 5 handles you obtained in the last question, and scrape the content of the first 10 posts of each handle.  \n",
    "2.Prepare a list of all words used in all the scraped posts and calculate the frequency of each word.  \n",
    "3.Create a csv file with two columns : the word and its frequency  \n",
    "4.Now, find the hashtags that were most popular among these bloggers  \n",
    "5.Plot a Pie Chart of the top 5 hashtags obtained and the number of times they were used by these bloggers in the scraped posts.  "
   ]
  },
  {
   "cell_type": "code",
   "execution_count": 392,
   "metadata": {},
   "outputs": [],
   "source": [
    "def extract_content(lst):\n",
    "    try:\n",
    "        hashtag_lists = []\n",
    "        for user in lst:\n",
    "            search_opening_profiles(user)\n",
    "            #rendering post with the help of scrollTo\n",
    "            driver.execute_script('window.scrollBy(0, 6000);')   \n",
    "            time.sleep(1)\n",
    "            #going upwards using scrollTo\n",
    "            driver.execute_script('window.scrollBy(0, -9000);')\n",
    "            time.sleep(1)\n",
    "            #finding the first post and clicking on it.\n",
    "            posts = wait.until(EC.presence_of_all_elements_located((By.CLASS_NAME,\"_aagw\")))\n",
    "            for post in posts[:10]:\n",
    "                try:\n",
    "                    post.click()\n",
    "                    time.sleep(2)\n",
    "                    hashtags = wait.until(EC.presence_of_all_elements_located((By.XPATH,\"//div[contains(@class,'_a9zs')]/h1/a\")))\n",
    "                    for hashtag in hashtags:\n",
    "                        if hashtag.text != '':\n",
    "                            if hashtag.text[0] == \"#\":\n",
    "                                hashtag_lists.append(hashtag.text)\n",
    "                    # after done fetching the data closing the post section completely.\n",
    "                    close = wait.until(EC.presence_of_element_located((By.CSS_SELECTOR,\"svg[aria-label='Close']\")))\n",
    "                    close.click()\n",
    "                    time.sleep(2)\n",
    "                except TimeoutException:                    \n",
    "                    # after done fetching the data closing the post section completely.\n",
    "                    close = wait.until(EC.presence_of_element_located((By.CSS_SELECTOR,\"svg[aria-label='Close']\")))\n",
    "                    close.click()\n",
    "                    time.sleep(2)  \n",
    "        return hashtag_lists    \n",
    "    except TimeoutException:\n",
    "        print(\"Something Went Wrong! Try Again\")"
   ]
  },
  {
   "cell_type": "code",
   "execution_count": 393,
   "metadata": {},
   "outputs": [
    {
     "name": "stdout",
     "output_type": "stream",
     "text": [
      "['#foodieincarnate', '#reelitfeelit', '#reelkarofeelkaro', '#reelsinstagram', '#reels', '#rosé', '#gulkand', '#explore', '#foodieincarnate', '#Reelitfeelit', '#reelkarofeelkaro', '#reelsinstagram', '#reels', '#kashmir', '#srinagar', '#Wendys', '#WendysBurgers', '#YummyBurgers', '#GreatDeal', '#foodieincarnate', '#foodieincarnate', '#reelitfeelit', '#reelkarofeelkaro', '#reelsinstagram', '#reels', '#chai', '#tea', '#foodieincarnate', '#reelitfeelit', '#reelkarofeelkaro', '#reelsinstagram', '#reels', '#icecream', '#explore', '#orange', '#foodieincarnate', '#foodieincarnaterecommends', '#Foodieincarnate', '#Reelitfeelit', '#reelkarofeelkaro', '#reelsinstagram', '#reels', '#baklava', '#desserts', '#turkish', '#viralvideos', '#viralfood', '#foodieincarnate', '#reelitfeelit', '#reelkarofeelkaro', '#reels', '#reelsinstagram', '#foodfactory', '#streetfood', '#chakna', '#explore', '#foodieincarnate', '#foodieincarnaterecommends', '#foodieincarnate', '#reelitfeelit', '#reelkarofeelkaro', '#reelsinstagram', '#reels', '#pattaya', '#thailand', '#explore', '#MustardOil', '#HamdardMustardOil', '#KachGhaniMustardOil', '#IndianFood', '#KitchenEssentials', '#BihariDish', '#Tasty', '#Healthy', '#CholesterolFree', '#MustardOilDish', '#Cooking', '#DeliciousFood', '#Sudhhata', '#SarsoOil', '#ChickenCookingOil', '#LittiChokha', '#bihar', '#indianrecipes', '#bainganbharta', '#recipes', '#easyrecipes', '#explore', '#explorepage', '#reels', '#reelsinstagram', '#weekend', '#foodiesfood_court', '#kurkure', '#lays', '#chips', '#snacks', '#easyrecipes', '#weekend', '#quickrecipes', '#delhi', '#recipereels', '#reels', '#reelitfeelit', '#delhifood', '#reelsinstagram', '#reelkarofeelkaro', '#instagram', '#chaatrecipe', '#layschaat', '#laysrecipe', '#snacksrecipe', '#kurkurechaat', '#chakna', '#delhifoodblogger', '#chaat', '#bhelpuri', '#recipeoftheday', '#foodiesfood_court', '#viralvideos', '#trending', '#paneerstuffedmoongdalchilla', '#chilla', '#cheela', '#dosa', '#paneer', '#paneerrecipes', '#recipes', '#homecooking', '#dosabatter', '#moongdal', '#moongdalchilla', '#breakfast', '#healthyrecipe', '#easyrecipes', '#explorepage', '#breakfastrecipes', '#explore', '#foodiesfood_court', '#vegpulao', '#vegpulav', '#paneerpulao', '#cholepulao', '#biryani', '#vegrecipes', '#eeeeeats', '#desikhana', '#explore', '#explorepage', '#indianfood', '#indianrecipes', '#easyrecipes', '#foodvideos', '#recipes', '#recipeoftheday', '#paneerrecipes', '#pulao', '#chickenbiryani', '#chickenrecipes', '#soyapulao', '#trending', '#weekend', '#soyabean', '#foodiesfood_court', '#manchurianrecipe', '#vegmanchurian', '#indochinese', '#streetfood', '#indianrecipes', '#recipes', '#videooftheday', '#easyrecipes', '#desikhana', '#explorepage', '#explore', '#paneerrecipes', '#exploremore', '#quickrecipe', '#soyachunks', '#paneertikka', '#weekend', '#soyamanchurian', '#indianfood', '#chillipaneer', '#trending', '#vegrecipes', '#soyachilli', '#foodiesfood_court', '#paneerrecipes', '#paneertikka', '#paneerfrankie', '#streetfood', '#recipevideos', '#viralvideos', '#paneerroll', '#streetfoodindia', '#vegrecipes', '#vegroll', '#giveaway', '#recipeoftheday', '#trending', '#indianrecipes', '#desikhana', '#reels', '#reelsinstagram', '#easyrecipes', '#kathiroll', '#eggrolls', '#explore', '#biharfoodblogger', '#foodiesfood_court', '#dahialoo', '#aloo', '#indianfood', '#indianrecipes', '#vegrecipes', '#recipes', '#easyrecipes', '#recipereels', '#recipeoftheday', '#reels', '#dumaloo', '#aloosabzi', '#delhifoodblogger', '#reelitfeelit', '#reelsinstagram', '#reelsindia', '#viralreels', '#kashmiridumaloo', '#paneerrecipes', '#trending', '#explorepage', '#explore', '#streetfood', '#desikhana', '#aloodum', '#foodiesfood_court', '#sujikachori', '#sujiballs', '#breadrolls', '#explorepage', '#explore', '#trending', '#foodvideos', '#easyrecipes', '#healthyrecipes', '#vegrecipes', '#viralvideos', '#india', '#healthysnacks', '#kidsrecipe', '#potatorecipes', '#paneerrecipes', '#snacks', '#eveningsnacks', '#foodiesfood_court', '#garlicbread', '#eveningsnacks', '#explore', '#recipeoftheday', '#garlicbreadsticks', '#breadrecipe', '#reels', '#snacks', '#indianrecipes', '#dominospizza', '#reelitfeelit', '#reelsinstagram', '#garlicbreadrecipe', '#easyrecipes', '#quickrecipes', '#delhifoodblogger', '#pizza', '#recipes', '#foodiesfood_court', '#maggie', '#maggi', '#maggielover', '#maggienoodles', '#maggirecipes', '#noodles', '#pasta', '#garlicbread', '#noodlesrecipe', '#recipes', '#easyrecipes', '#quickrecipes', '#instagram', '#delhifood', '#biharfoodbloggers', '#trending', '#explore', '#explorepage', '#sunday', '#pizza', '#paneerrecipes', '#viralvideos', '#monsoon', '#burgers', '#mumbai', '#dinein', '#orderin', '#flavours', '#food', '#foodtalkindia', '#delicious', '#yummy', '#discover', '#butterchicken', '#deliciousdiscoveries', '#facts', '#delhi', '#flavours', '#food', '#foodtalkindia', '#delicious', '#yummy', '#discover', '#thedhanmill', '#eateries', '#delhi', '#flavours', '#food', '#drinks', '#bakes', '#foodtalkindia', '#delicious', '#yummy', '#discover', '#NewInTown', '#thebigchillcafe', '#dubai', '#cafe', '#delhi', '#flavours', '#food', '#foodtalkindia', '#delicious', '#yummy', '#discover', '#yogurt', '#froyo', '#delhincr', '#flavours', '#sweet', '#food', '#foodtalkindia', '#delicious', '#yummy', '#discover', '#NewInTown', '#bira91', '#taproom', '#craftbeers', '#gurugram', '#cyberhub', '#food', '#drinks', '#foodtalkindia', '#delicious', '#yummy', '#discover', '#EpicEpicure', '#mias', '#quickbites', '#booze', '#delhi', '#flavours', '#food', '#drinks', '#foodtalkindia', '#delicious', '#yummy', '#discover', '#NewInTown', '#retro', '#doitatrewind', '#unitedcoffeehouse', '#uchrewind', '#restro', '#delhi', '#flavours', '#food', '#foodtalkindia', '#delicious', '#yummy', '#discover', '#delhincr', '#mumbai', '#funthings', '#weekendplans', '#wine', '#bar', '#drinks', '#brunch', '#foodtalkindia', '#delicious', '#yummy', '#discover', '#ftiinsider', '#krapow', '#chicken', '#delhincr', '#flavours', '#food', '#foodtalkindia', '#delicious', '#yummy', '#discover', '#dfwinmanipur', '#snackstrail', '#manipursnackstrail', '#explorewithanubhav', '#dfwinmanipur', '#manipur', '#dfwinkarolbagh', '#karolbagh', '#streetfood', '#foodwalk', '#walkwithanubhav', '#DelhiFoodWalks', '#FoodiesParadise', '#OldDelhiEats', '#BreakfastStroll', '#TimesPrime', '#karolbagh', '#karolbaghmarket', '#streetfoodtour', '#walkwithanubhav', '#dfwinchikhaldara', '#chikhaldara', '#foodwalkswithanubhav', '#dfwinchikhaldara', '#foodtrip', '#amravatifoodtour', '#coffee', '#varhadi', '#vidarbha', '#amravati', '#delhifoodwalks', '#foodwalkswithanubhav']\n"
     ]
    }
   ],
   "source": [
    "handles = list(total_post_count.keys())\n",
    "hashtags = extract_content(handles)\n",
    "print(hashtags)"
   ]
  },
  {
   "attachments": {},
   "cell_type": "markdown",
   "metadata": {},
   "source": [
    "##### 2.Prepare a list of all words used in all the scraped posts and calculate the frequency of each word."
   ]
  },
  {
   "cell_type": "code",
   "execution_count": 396,
   "metadata": {},
   "outputs": [
    {
     "name": "stdout",
     "output_type": "stream",
     "text": [
      "#explore : 13\n",
      "#reelsinstagram : 12\n",
      "#reels : 12\n",
      "#easyrecipes : 10\n",
      "#foodtalkindia : 10\n",
      "#delicious : 10\n",
      "#yummy : 10\n",
      "#discover : 10\n",
      "#foodieincarnate : 9\n",
      "#foodiesfood_court : 9\n",
      "#food : 9\n",
      "#reelitfeelit : 8\n",
      "#reelkarofeelkaro : 8\n",
      "#flavours : 8\n",
      "#recipes : 7\n",
      "#explorepage : 7\n",
      "#trending : 7\n",
      "#paneerrecipes : 7\n",
      "#indianrecipes : 6\n",
      "#delhi : 6\n",
      "#viralvideos : 5\n",
      "#streetfood : 5\n",
      "#recipeoftheday : 5\n",
      "#vegrecipes : 5\n",
      "#weekend : 4\n",
      "#desikhana : 4\n",
      "#drinks : 4\n",
      "#snacks : 3\n",
      "#quickrecipes : 3\n",
      "#delhifoodblogger : 3\n",
      "#indianfood : 3\n",
      "#NewInTown : 3\n",
      "#delhincr : 3\n",
      "#Reelitfeelit : 2\n",
      "#foodieincarnaterecommends : 2\n",
      "#chakna : 2\n",
      "#recipereels : 2\n",
      "#delhifood : 2\n",
      "#instagram : 2\n",
      "#foodvideos : 2\n",
      "#paneertikka : 2\n",
      "#eveningsnacks : 2\n",
      "#garlicbread : 2\n",
      "#pizza : 2\n",
      "#mumbai : 2\n",
      "#dfwinmanipur : 2\n",
      "#karolbagh : 2\n",
      "#walkwithanubhav : 2\n",
      "#dfwinchikhaldara : 2\n",
      "#foodwalkswithanubhav : 2\n",
      "#rosé : 1\n",
      "#gulkand : 1\n",
      "#kashmir : 1\n",
      "#srinagar : 1\n",
      "#Wendys : 1\n",
      "#WendysBurgers : 1\n",
      "#YummyBurgers : 1\n",
      "#GreatDeal : 1\n",
      "#chai : 1\n",
      "#tea : 1\n",
      "#icecream : 1\n",
      "#orange : 1\n",
      "#Foodieincarnate : 1\n",
      "#baklava : 1\n",
      "#desserts : 1\n",
      "#turkish : 1\n",
      "#viralfood : 1\n",
      "#foodfactory : 1\n",
      "#pattaya : 1\n",
      "#thailand : 1\n",
      "#MustardOil : 1\n",
      "#HamdardMustardOil : 1\n",
      "#KachGhaniMustardOil : 1\n",
      "#IndianFood : 1\n",
      "#KitchenEssentials : 1\n",
      "#BihariDish : 1\n",
      "#Tasty : 1\n",
      "#Healthy : 1\n",
      "#CholesterolFree : 1\n",
      "#MustardOilDish : 1\n",
      "#Cooking : 1\n",
      "#DeliciousFood : 1\n",
      "#Sudhhata : 1\n",
      "#SarsoOil : 1\n",
      "#ChickenCookingOil : 1\n",
      "#LittiChokha : 1\n",
      "#bihar : 1\n",
      "#bainganbharta : 1\n",
      "#kurkure : 1\n",
      "#lays : 1\n",
      "#chips : 1\n",
      "#chaatrecipe : 1\n",
      "#layschaat : 1\n",
      "#laysrecipe : 1\n",
      "#snacksrecipe : 1\n",
      "#kurkurechaat : 1\n",
      "#chaat : 1\n",
      "#bhelpuri : 1\n",
      "#paneerstuffedmoongdalchilla : 1\n",
      "#chilla : 1\n",
      "#cheela : 1\n",
      "#dosa : 1\n",
      "#paneer : 1\n",
      "#homecooking : 1\n",
      "#dosabatter : 1\n",
      "#moongdal : 1\n",
      "#moongdalchilla : 1\n",
      "#breakfast : 1\n",
      "#healthyrecipe : 1\n",
      "#breakfastrecipes : 1\n",
      "#vegpulao : 1\n",
      "#vegpulav : 1\n",
      "#paneerpulao : 1\n",
      "#cholepulao : 1\n",
      "#biryani : 1\n",
      "#eeeeeats : 1\n",
      "#pulao : 1\n",
      "#chickenbiryani : 1\n",
      "#chickenrecipes : 1\n",
      "#soyapulao : 1\n",
      "#soyabean : 1\n",
      "#manchurianrecipe : 1\n",
      "#vegmanchurian : 1\n",
      "#indochinese : 1\n",
      "#videooftheday : 1\n",
      "#exploremore : 1\n",
      "#quickrecipe : 1\n",
      "#soyachunks : 1\n",
      "#soyamanchurian : 1\n",
      "#chillipaneer : 1\n",
      "#soyachilli : 1\n",
      "#paneerfrankie : 1\n",
      "#recipevideos : 1\n",
      "#paneerroll : 1\n",
      "#streetfoodindia : 1\n",
      "#vegroll : 1\n",
      "#giveaway : 1\n",
      "#kathiroll : 1\n",
      "#eggrolls : 1\n",
      "#biharfoodblogger : 1\n",
      "#dahialoo : 1\n",
      "#aloo : 1\n",
      "#dumaloo : 1\n",
      "#aloosabzi : 1\n",
      "#reelsindia : 1\n",
      "#viralreels : 1\n",
      "#kashmiridumaloo : 1\n",
      "#aloodum : 1\n",
      "#sujikachori : 1\n",
      "#sujiballs : 1\n",
      "#breadrolls : 1\n",
      "#healthyrecipes : 1\n",
      "#india : 1\n",
      "#healthysnacks : 1\n",
      "#kidsrecipe : 1\n",
      "#potatorecipes : 1\n",
      "#garlicbreadsticks : 1\n",
      "#breadrecipe : 1\n",
      "#dominospizza : 1\n",
      "#garlicbreadrecipe : 1\n",
      "#maggie : 1\n",
      "#maggi : 1\n",
      "#maggielover : 1\n",
      "#maggienoodles : 1\n",
      "#maggirecipes : 1\n",
      "#noodles : 1\n",
      "#pasta : 1\n",
      "#noodlesrecipe : 1\n",
      "#biharfoodbloggers : 1\n",
      "#sunday : 1\n",
      "#monsoon : 1\n",
      "#burgers : 1\n",
      "#dinein : 1\n",
      "#orderin : 1\n",
      "#butterchicken : 1\n",
      "#deliciousdiscoveries : 1\n",
      "#facts : 1\n",
      "#thedhanmill : 1\n",
      "#eateries : 1\n",
      "#bakes : 1\n",
      "#thebigchillcafe : 1\n",
      "#dubai : 1\n",
      "#cafe : 1\n",
      "#yogurt : 1\n",
      "#froyo : 1\n",
      "#sweet : 1\n",
      "#bira91 : 1\n",
      "#taproom : 1\n",
      "#craftbeers : 1\n",
      "#gurugram : 1\n",
      "#cyberhub : 1\n",
      "#EpicEpicure : 1\n",
      "#mias : 1\n",
      "#quickbites : 1\n",
      "#booze : 1\n",
      "#retro : 1\n",
      "#doitatrewind : 1\n",
      "#unitedcoffeehouse : 1\n",
      "#uchrewind : 1\n",
      "#restro : 1\n",
      "#funthings : 1\n",
      "#weekendplans : 1\n",
      "#wine : 1\n",
      "#bar : 1\n",
      "#brunch : 1\n",
      "#ftiinsider : 1\n",
      "#krapow : 1\n",
      "#chicken : 1\n",
      "#snackstrail : 1\n",
      "#manipursnackstrail : 1\n",
      "#explorewithanubhav : 1\n",
      "#manipur : 1\n",
      "#dfwinkarolbagh : 1\n",
      "#foodwalk : 1\n",
      "#DelhiFoodWalks : 1\n",
      "#FoodiesParadise : 1\n",
      "#OldDelhiEats : 1\n",
      "#BreakfastStroll : 1\n",
      "#TimesPrime : 1\n",
      "#karolbaghmarket : 1\n",
      "#streetfoodtour : 1\n",
      "#chikhaldara : 1\n",
      "#foodtrip : 1\n",
      "#amravatifoodtour : 1\n",
      "#coffee : 1\n",
      "#varhadi : 1\n",
      "#vidarbha : 1\n",
      "#amravati : 1\n",
      "#delhifoodwalks : 1\n"
     ]
    }
   ],
   "source": [
    "dct = {}\n",
    "words_list = []\n",
    "for word in hashtags:\n",
    "    dct[word] = dct.get(word,0) + 1\n",
    "    \n",
    "for i in sorted(dct, key=dct.get, reverse=True):\n",
    "    words_list.append([i,dct[i]])\n",
    "    print(i,\":\",dct[i])"
   ]
  },
  {
   "attachments": {},
   "cell_type": "markdown",
   "metadata": {},
   "source": [
    "##### 3.Create a csv file with two columns : the word and its frequency"
   ]
  },
  {
   "cell_type": "code",
   "execution_count": 397,
   "metadata": {},
   "outputs": [
    {
     "data": {
      "text/html": [
       "<div>\n",
       "<style scoped>\n",
       "    .dataframe tbody tr th:only-of-type {\n",
       "        vertical-align: middle;\n",
       "    }\n",
       "\n",
       "    .dataframe tbody tr th {\n",
       "        vertical-align: top;\n",
       "    }\n",
       "\n",
       "    .dataframe thead th {\n",
       "        text-align: right;\n",
       "    }\n",
       "</style>\n",
       "<table border=\"1\" class=\"dataframe\">\n",
       "  <thead>\n",
       "    <tr style=\"text-align: right;\">\n",
       "      <th></th>\n",
       "      <th>Words</th>\n",
       "      <th>Frequency</th>\n",
       "    </tr>\n",
       "  </thead>\n",
       "  <tbody>\n",
       "    <tr>\n",
       "      <th>0</th>\n",
       "      <td>#explore</td>\n",
       "      <td>13</td>\n",
       "    </tr>\n",
       "    <tr>\n",
       "      <th>1</th>\n",
       "      <td>#reelsinstagram</td>\n",
       "      <td>12</td>\n",
       "    </tr>\n",
       "    <tr>\n",
       "      <th>2</th>\n",
       "      <td>#reels</td>\n",
       "      <td>12</td>\n",
       "    </tr>\n",
       "    <tr>\n",
       "      <th>3</th>\n",
       "      <td>#easyrecipes</td>\n",
       "      <td>10</td>\n",
       "    </tr>\n",
       "    <tr>\n",
       "      <th>4</th>\n",
       "      <td>#foodtalkindia</td>\n",
       "      <td>10</td>\n",
       "    </tr>\n",
       "    <tr>\n",
       "      <th>5</th>\n",
       "      <td>#delicious</td>\n",
       "      <td>10</td>\n",
       "    </tr>\n",
       "    <tr>\n",
       "      <th>6</th>\n",
       "      <td>#yummy</td>\n",
       "      <td>10</td>\n",
       "    </tr>\n",
       "    <tr>\n",
       "      <th>7</th>\n",
       "      <td>#discover</td>\n",
       "      <td>10</td>\n",
       "    </tr>\n",
       "    <tr>\n",
       "      <th>8</th>\n",
       "      <td>#foodieincarnate</td>\n",
       "      <td>9</td>\n",
       "    </tr>\n",
       "    <tr>\n",
       "      <th>9</th>\n",
       "      <td>#foodiesfood_court</td>\n",
       "      <td>9</td>\n",
       "    </tr>\n",
       "  </tbody>\n",
       "</table>\n",
       "</div>"
      ],
      "text/plain": [
       "                Words  Frequency\n",
       "0            #explore         13\n",
       "1     #reelsinstagram         12\n",
       "2              #reels         12\n",
       "3        #easyrecipes         10\n",
       "4      #foodtalkindia         10\n",
       "5          #delicious         10\n",
       "6              #yummy         10\n",
       "7           #discover         10\n",
       "8    #foodieincarnate          9\n",
       "9  #foodiesfood_court          9"
      ]
     },
     "execution_count": 397,
     "metadata": {},
     "output_type": "execute_result"
    }
   ],
   "source": [
    "df = pd.DataFrame(words_list,columns=['Words','Frequency'])\n",
    "#using .to_csv pandas function to convert dataframe to csv\n",
    "df.to_csv('words_frequency.csv',index=False)\n",
    "df.head(10)"
   ]
  },
  {
   "attachments": {},
   "cell_type": "markdown",
   "metadata": {},
   "source": [
    "##### 4.Now, find the hashtags that were most popular among these bloggers"
   ]
  },
  {
   "cell_type": "code",
   "execution_count": 400,
   "metadata": {},
   "outputs": [
    {
     "name": "stdout",
     "output_type": "stream",
     "text": [
      "#explore\n"
     ]
    }
   ],
   "source": [
    "print(words_list[0][0])"
   ]
  },
  {
   "attachments": {},
   "cell_type": "markdown",
   "metadata": {},
   "source": [
    "##### 5.Plot a Pie Chart of the top 5 hashtags obtained and the number of times they were used by these bloggers in the scraped posts."
   ]
  },
  {
   "cell_type": "code",
   "execution_count": 403,
   "metadata": {},
   "outputs": [
    {
     "data": {
      "text/plain": [
       "'#explore'"
      ]
     },
     "execution_count": 403,
     "metadata": {},
     "output_type": "execute_result"
    }
   ],
   "source": [
    "words_list[0][0]"
   ]
  },
  {
   "cell_type": "code",
   "execution_count": 408,
   "metadata": {},
   "outputs": [
    {
     "data": {
      "image/png": "[encoded data removed]",
      "text/plain": [
       "<Figure size 1200x600 with 1 Axes>"
      ]
     },
     "metadata": {},
     "output_type": "display_data"
    }
   ],
   "source": [
    "#using answer of problem 2.2\n",
    "hashtag_name = [words_list[0][0],words_list[1][0],words_list[2][0],words_list[3][0],words_list[4][0]]\n",
    "count = [words_list[0][1],words_list[1][1],words_list[2][1],words_list[3][1],words_list[4][1]]\n",
    "plt.figure(figsize=(12,6))\n",
    "plt.pie(count,labels=hashtag_name,autopct='%0.2f%%',radius=1,counterclock=False,startangle=110)\n",
    "plt.title('Top 5 Hashtags used by bloggers ',fontsize=20, color='blue',alpha=0.8)\n",
    "plt.show()"
   ]
  },
  {
   "attachments": {},
   "cell_type": "markdown",
   "metadata": {},
   "source": [
    "### Problem 3 : Followers : Likes ratio\n",
    "You need to also calculate average followers : likes ratio for the obtained handles.\n",
    "Followers : Likes ratio is calculated as follows:  \n",
    "1.Find out the likes of the top 10 posts of the 5 handles obtained earlier.  \n",
    "2.Calculate the average likes for a handle.  \n",
    "3.Divide the average likes obtained from the number of followers of the handle to get the average followers:like ratio of each handle.  \n",
    "4.Create a bar graph to depict the above obtained information.  "
   ]
  },
  {
   "attachments": {},
   "cell_type": "markdown",
   "metadata": {},
   "source": [
    "##### 1.Find out the likes of the top 10 posts of the 5 handles obtained earlier."
   ]
  },
  {
   "cell_type": "code",
   "execution_count": null,
   "metadata": {},
   "outputs": [],
   "source": [
    "#This function returns list of likes of 10 post of a user\n",
    "def get_likes(user):\n",
    "    try :\n",
    "        likes = []\n",
    "        #This fuction will search a user and open that profile\n",
    "        search_opening_profiles(user)\n",
    "        time.sleep(2)\n",
    "        #just for scrolling\n",
    "        driver.execute_script('window.scrollTo(0, 3000);')\n",
    "        time.sleep(2)\n",
    "        driver.execute_script('window.scrollTo(0, -3000);')\n",
    "        time.sleep(2)\n",
    "        #locating the post of the user\n",
    "        posts = wait.until(EC.presence_of_all_elements_located((By.CLASS_NAME,\"_aagw\")))\n",
    "        for post in posts[:10]:\n",
    "            views = wait.until(EC.presence_of_element_located((By.XPATH,\"//span[contains(@class,'x193iq5q')]\")))\n",
    "    except TimeoutException:\n",
    "        print(\"Something Went Wrong! Try Again\")"
   ]
  },
  {
   "cell_type": "code",
   "execution_count": 421,
   "metadata": {},
   "outputs": [
    {
     "data": {
      "text/plain": [
       "<selenium.webdriver.remote.webelement.WebElement (session=\"7fba0331d419fe4c5f7cddf74a36df78\", element=\"3D9E075F38055F2615404DB74E045B53_element_2770\")>"
      ]
     },
     "execution_count": 421,
     "metadata": {},
     "output_type": "execute_result"
    }
   ],
   "source": [
    "views = wait.until(EC.presence_of_element_located((By.XPATH,\"//span[contains(@class,'x193iq5w')]\")))\n",
    "views"
   ]
  },
  {
   "cell_type": "code",
   "execution_count": null,
   "metadata": {},
   "outputs": [],
   "source": []
  }
 ],
 "metadata": {
  "kernelspec": {
   "display_name": "Python 3",
   "language": "python",
   "name": "python3"
  },
  "language_info": {
   "codemirror_mode": {
    "name": "ipython",
    "version": 3
   },
   "file_extension": ".py",
   "mimetype": "text/x-python",
   "name": "python",
   "nbconvert_exporter": "python",
   "pygments_lexer": "ipython3",
   "version": "3.11.3"
  },
  "orig_nbformat": 4
 },
 "nbformat": 4,
 "nbformat_minor": 2
}
