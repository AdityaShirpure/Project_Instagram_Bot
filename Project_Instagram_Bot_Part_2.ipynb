{
 "cells": [
  {
   "attachments": {},
   "cell_type": "markdown",
   "metadata": {},
   "source": [
    "# InstaBot - Part 2"
   ]
  },
  {
   "cell_type": "code",
   "execution_count": 28,
   "metadata": {},
   "outputs": [],
   "source": [
    "# importing all the libraries \n",
    "import time\n",
    "import numpy as np\n",
    "import pandas as pd\n",
    "from bs4 import BeautifulSoup\n",
    "from selenium import webdriver\n",
    "import matplotlib.pyplot as plt\n",
    "from collections import OrderedDict\n",
    "from datetime import datetime, timedelta\n",
    "from selenium.webdriver.common.by import By\n",
    "from selenium.webdriver.support.ui import WebDriverWait\n",
    "from selenium.common.exceptions import ElementClickInterceptedException\n",
    "from selenium.common.exceptions import NoSuchElementException\n",
    "from selenium.common.exceptions import StaleElementReferenceException\n",
    "from selenium.common.exceptions import TimeoutException\n",
    "from selenium.webdriver.support import expected_conditions as EC\n"
   ]
  },
  {
   "cell_type": "code",
   "execution_count": 17,
   "metadata": {},
   "outputs": [
    {
     "name": "stderr",
     "output_type": "stream",
     "text": [
      "The version of chrome cannot be detected. Trying with latest driver version\n"
     ]
    }
   ],
   "source": [
    "# initializing the webdriver browser \n",
    "# you can set the executable path of your chrome_driver underneath\n",
    "driver = webdriver.Chrome()\n",
    "driver.maximize_window()"
   ]
  },
  {
   "cell_type": "code",
   "execution_count": 18,
   "metadata": {},
   "outputs": [],
   "source": [
    "# initializing a get request to the browser for Instagram.com\n",
    "driver.get('https://www.instagram.com/')"
   ]
  },
  {
   "cell_type": "code",
   "execution_count": 19,
   "metadata": {},
   "outputs": [],
   "source": [
    "# update your username and password for log in \n",
    "username = 'shirpure1998'\n",
    "password = 'Shirpure1998@'"
   ]
  },
  {
   "cell_type": "code",
   "execution_count": 20,
   "metadata": {},
   "outputs": [],
   "source": [
    "# initializing object for WebDriverWait\n",
    "wait = WebDriverWait(driver, 10)"
   ]
  },
  {
   "cell_type": "code",
   "execution_count": 21,
   "metadata": {},
   "outputs": [],
   "source": [
    "#this function lets you login in your Instagram handle\n",
    "def LogIn(username, password):\n",
    "    try :\n",
    "        #locating the username textbox and sending username\n",
    "        user_name = wait.until(EC.presence_of_element_located((By.NAME,\"username\")))\n",
    "        #making sure that user name input box is clear\n",
    "        user_name.clear()\n",
    "        time.sleep(1)\n",
    "        user_name.send_keys(username)\n",
    "        #locating the password textbox and sending password\n",
    "        pwd = driver.find_element(By.NAME,\"password\")\n",
    "        #making sure that password input box is clear\n",
    "        pwd.clear()\n",
    "        time.sleep(1)\n",
    "        pwd.send_keys(password)\n",
    "        #locating login button\n",
    "        button = wait.until(EC.presence_of_element_located((By.CSS_SELECTOR,\"button[type = 'submit']\")))\n",
    "        button.submit()\n",
    "        #Save Your Login Info? : Not Now\n",
    "        pop1 = wait.until(EC.presence_of_element_located((By.XPATH,'//div[contains(text(),\"Not Now\")]')))\n",
    "        pop1.click()\n",
    "        #notification Turn on or Not\n",
    "        pop2 = wait.until(EC.presence_of_element_located((By.XPATH,\"//button[contains(@class,'_a9--')]\")))\n",
    "        pop2.click()\n",
    "        \n",
    "    except TimeoutException :\n",
    "        print (\"Something went wrong! Try Again\")"
   ]
  },
  {
   "cell_type": "code",
   "execution_count": 22,
   "metadata": {},
   "outputs": [],
   "source": [
    "#call the function to Log in to your Instagram Handle\n",
    "#change the login credentials above if you want to login in some different instagram handle\n",
    "LogIn(username,password)"
   ]
  },
  {
   "cell_type": "code",
   "execution_count": 112,
   "metadata": {},
   "outputs": [],
   "source": [
    "#this function lets you search a profile and open it\n",
    "def search_opening_profiles(value):\n",
    "    driver.refresh()\n",
    "    time.sleep(1)\n",
    "    try :\n",
    "        #notification Turn on or Not\n",
    "        pop2 = driver.find_element(By.XPATH,\"//button[contains(@class,'_a9--')]\")\n",
    "        pop2.click()\n",
    "    except ElementClickInterceptedException:\n",
    "        pass        \n",
    "    except TimeoutException:\n",
    "        pass\n",
    "    except NoSuchElementException:\n",
    "        pass\n",
    "    try:\n",
    "        #locating the search box and cliking on it\n",
    "        search_box = wait.until(EC.presence_of_element_located((By.CSS_SELECTOR,'svg[aria-label=\"Search\"]')))\n",
    "        search_box.click() \n",
    "        time.sleep(1)\n",
    "        #sending the value in the search box\n",
    "        sending_value = driver.find_element(By.CSS_SELECTOR,'input[aria-label = \"Search input\"]')\n",
    "        sending_value.clear()\n",
    "        sending_value.send_keys(value)\n",
    "        time.sleep(1)\n",
    "        #waiting till the searched is done\n",
    "        wait.until(EC.presence_of_element_located((By.CSS_SELECTOR,\"div[role='none']\")))\n",
    "        time.sleep(1)\n",
    "        #retry mechanism for StaleElementReferenceException\n",
    "        for i in range(3):\n",
    "            try:\n",
    "                #finding the searched account and clicking on it.\n",
    "                account = wait.until(EC.presence_of_element_located((By.CSS_SELECTOR,\"div[role='none']\")))\n",
    "                account.click()\n",
    "                break\n",
    "            except StaleElementReferenceException: \n",
    "                continue\n",
    "        #after done searching it will remove the search bar and gives you the full page of that Instagram handler.\n",
    "        try:\n",
    "            wait.until(EC.presence_of_element_located((By.XPATH,\"//div[contains(@class,'_aawn')]\")))\n",
    "            wait.until(EC.presence_of_element_located((By.XPATH,'//div[contains(@class,\"_aa_y\")]'))).click() \n",
    "            time.sleep(2)\n",
    "        except NoSuchElementException:\n",
    "            pass\n",
    "    except ElementClickInterceptedException:\n",
    "        close = driver.find_element(By.CSS_SELECTOR,\"svg[aria-label='Close']\")\n",
    "        close.click()\n",
    "        print(\"Try Again\")  \n",
    "        print(\"Something Went Wrong!\")     \n",
    "    except TimeoutException:\n",
    "        print(\"No Search Found!\")"
   ]
  },
  {
   "attachments": {},
   "cell_type": "markdown",
   "metadata": {},
   "source": [
    "### Problem 1 : Analyse the habits of bloggers\n",
    "Now your friend has followed a lot of different food bloggers, he needs to analyse the habits of these bloggers.    \n",
    "1.From the list of instagram handles you obtained when you searched ‘food’ in previous project. Open the first 10 handles and find the top 5 which have the highest number of followers  \n",
    "2.Now Find the number of posts these handles have done in the previous 3 days.  \n",
    "3.Depict this information using a suitable graph.  "
   ]
  },
  {
   "cell_type": "code",
   "execution_count": 108,
   "metadata": {},
   "outputs": [
    {
     "data": {
      "text/plain": [
       "['foodtalkindia',\n",
       " 'dilsefoodie',\n",
       " 'foodie_incarnate',\n",
       " 'foodgod',\n",
       " 'germany.explores',\n",
       " 'foodliti',\n",
       " 'foodyeating',\n",
       " 'yourfoodlab',\n",
       " 'foodnetworkkitchen',\n",
       " 'foodporn']"
      ]
     },
     "execution_count": 108,
     "metadata": {},
     "output_type": "execute_result"
    }
   ],
   "source": [
    "#First 10 handles from part-1\n",
    "first_10_handles = ['foodtalkindia','dilsefoodie','foodie_incarnate','foodgod','germany.explores','foodliti','foodyeating','yourfoodlab','foodnetworkkitchen','foodporn']\n",
    "first_10_handles"
   ]
  },
  {
   "cell_type": "code",
   "execution_count": 126,
   "metadata": {},
   "outputs": [],
   "source": [
    "def top_5_handles(first_10_handles):\n",
    "    try:\n",
    "        #locating the search box and cliking on it\n",
    "        search_box = wait.until(EC.presence_of_element_located((By.CSS_SELECTOR,'svg[aria-label=\"Search\"]')))\n",
    "        search_box.click() \n",
    "        top_5 = {}\n",
    "        for i in first_10_handles: \n",
    "            search_opening_profiles(i)\n",
    "            # waiting till all search is done.\n",
    "            time.sleep(2)\n",
    "            #locating and getting the number of followers.\n",
    "            followers = wait.until(EC.presence_of_all_elements_located((By.CLASS_NAME,\"_ac2a\")))[1]\n",
    "            top_5[i] = int(followers.get_attribute(\"title\").replace(\",\",\"\"))\n",
    "            count = 0\n",
    "            new_result = {}\n",
    "            for i in sorted(top_5 , key=top_5.get, reverse=True):\n",
    "                new_result[i] = top_5[i]\n",
    "                count = count + 1\n",
    "                if count == 5:\n",
    "                    break            \n",
    "        return new_result\n",
    "    except TimeoutException:\n",
    "        print(\"Something went wrong!, Try Again\")"
   ]
  },
  {
   "cell_type": "code",
   "execution_count": 127,
   "metadata": {},
   "outputs": [
    {
     "name": "stdout",
     "output_type": "stream",
     "text": [
      "Top 5 instagram handles which have the highest number of followers\n",
      "foodgod : 3895599\n",
      "foodyeating : 2868429\n",
      "yourfoodlab : 2711734\n",
      "foodie_incarnate : 1622019\n",
      "foodporn : 1391318\n"
     ]
    }
   ],
   "source": [
    "result = top_5_handles(first_10_handles)\n",
    "print('Top 5 instagram handles which have the highest number of followers')\n",
    "for key,value in result.items():\n",
    "    print(key,\":\",value)"
   ]
  },
  {
   "attachments": {},
   "cell_type": "markdown",
   "metadata": {},
   "source": [
    "##### 2.Now Find the number of posts these handles have done in the previous 3 days."
   ]
  },
  {
   "cell_type": "code",
   "execution_count": 170,
   "metadata": {},
   "outputs": [],
   "source": [
    "def number_of_post(day):\n",
    "    try:\n",
    "        post = wait.until(EC.presence_of_element_located((By.CLASS_NAME,\"_aagw\")))\n",
    "        post.click()\n",
    "        time.sleep(1)\n",
    "        count = 0\n",
    "        while True:\n",
    "            temp = wait.until(EC.presence_of_element_located((By.XPATH,\"//time[contains(@class,'_a9ze')]\")))\n",
    "            time.sleep(1)\n",
    "            date_string = temp.get_attribute(\"datetime\")\n",
    "            format_code = \"%Y-%m-%dT%H:%M:%S\"\n",
    "            date = datetime.strptime(date_string[:19],format_code)\n",
    "            if (datetime.now() - date).days > day:\n",
    "                break\n",
    "            else:\n",
    "                count = count + 1\n",
    "            next_post = wait.until(EC.presence_of_element_located((By.CSS_SELECTOR,\"svg[aria-label='Next']\")))\n",
    "            next_post.click()\n",
    "            time.sleep(2)\n",
    "        close = wait.until(EC.presence_of_element_located((By.CSS_SELECTOR,\"svg[aria-label='Close']\")))\n",
    "        close.click()\n",
    "        return count\n",
    "    except ElementClickInterceptedException:\n",
    "        driver.refresh()\n",
    "        print(\"Try Again Please!\")\n",
    "    except TimeoutException:\n",
    "        print(\"Something Went Wrong!, Try Again\")"
   ]
  },
  {
   "cell_type": "code",
   "execution_count": 174,
   "metadata": {},
   "outputs": [
    {
     "name": "stdout",
     "output_type": "stream",
     "text": [
      "Number of posts these handles have done in the previous 3 days : -\n",
      "foodgod : 0\n",
      "foodyeating : 13\n",
      "yourfoodlab : 1\n",
      "foodie_incarnate : 2\n",
      "foodporn : 0\n"
     ]
    }
   ],
   "source": [
    "total_post_count = {}\n",
    "for i in result:\n",
    "    search_opening_profiles(i)\n",
    "    time.sleep(3)\n",
    "    count = number_of_post(3)\n",
    "    total_post_count[i] = count\n",
    "print('Number of posts these handles have done in the previous 3 days : -')\n",
    "for i in total_post_count:\n",
    "    print(i,\":\",total_post_count[i])"
   ]
  },
  {
   "attachments": {},
   "cell_type": "markdown",
   "metadata": {},
   "source": [
    "##### 3.Depict this information using a suitable graph."
   ]
  },
  {
   "cell_type": "code",
   "execution_count": 195,
   "metadata": {},
   "outputs": [
    {
     "data": {
      "image/png": "[encoded data removed]",
      "text/plain": [
       "<Figure size 1000x600 with 2 Axes>"
      ]
     },
     "metadata": {},
     "output_type": "display_data"
    }
   ],
   "source": [
    "import matplotlib.pyplot as plt\n",
    "import matplotlib.ticker as ticker\n",
    "\n",
    "# Sample data (replace with your actual data)\n",
    "instagram_handles = result.keys()\n",
    "follower_counts = result.values()\n",
    "post_counts = total_post_count.values()\n",
    "\n",
    "# Create a figure and axis\n",
    "fig, ax1 = plt.subplots(figsize=(10, 6))\n",
    "\n",
    "# Plot follower counts as a bar graph on the left y-axis\n",
    "ax1.bar(range(1, len(instagram_handles) + 1), follower_counts, color='skyblue')\n",
    "ax1.set_ylabel('Follower Count', color='skyblue')\n",
    "ax1.tick_params(axis='y', labelcolor='skyblue')\n",
    "\n",
    "# Create a second y-axis on the right for post counts\n",
    "ax2 = ax1.twinx()\n",
    "\n",
    "# Plot post counts as a bar graph on the right y-axis\n",
    "# Plot post counts as a bar graph on the right y-axis without transparency\n",
    "ax2.bar(range(1, len(instagram_handles) + 1), post_counts, color='orange')\n",
    "ax2.set_ylabel('Post Count', color='orange')\n",
    "ax2.tick_params(axis='y', labelcolor='orange')\n",
    "\n",
    "# Set the title and labels\n",
    "plt.title('Top 5 Instagram Handles - Follower Count vs. Post Count')\n",
    "plt.xlabel('Instagram Handles')\n",
    "\n",
    "# Format the x-axis ticks to start from 1 and increment by 1\n",
    "plt.xticks(range(1, len(instagram_handles) + 1), instagram_handles, rotation=45, ha='right')\n",
    "\n",
    "# Format the y-axis labels to show accurate follower counts\n",
    "def format_follower_count(x, pos):\n",
    "    return f'{int(x):,}'  # Format the number with commas as thousands separators\n",
    "\n",
    "ax1.yaxis.set_major_formatter(ticker.FuncFormatter(format_follower_count))\n",
    "\n",
    "# Set font size for x and y axis labels and the title\n",
    "ax1.set_xlabel('Instagram Handles', fontsize=12)\n",
    "ax1.set_ylabel('Follower Count', color='skyblue', fontsize=12)\n",
    "ax2.set_ylabel('Post Count', color='orange', fontsize=12)\n",
    "plt.title('Top 5 Instagram Handles - Follower Count vs. Post Count', fontsize=14)\n",
    "\n",
    "# Add some padding to the plot\n",
    "plt.tight_layout()\n",
    "\n",
    "# Show the plot\n",
    "plt.show()\n",
    "\n"
   ]
  }
 ],
 "metadata": {
  "kernelspec": {
   "display_name": "Python 3",
   "language": "python",
   "name": "python3"
  },
  "language_info": {
   "codemirror_mode": {
    "name": "ipython",
    "version": 3
   },
   "file_extension": ".py",
   "mimetype": "text/x-python",
   "name": "python",
   "nbconvert_exporter": "python",
   "pygments_lexer": "ipython3",
   "version": "3.11.3"
  },
  "orig_nbformat": 4
 },
 "nbformat": 4,
 "nbformat_minor": 2
}
